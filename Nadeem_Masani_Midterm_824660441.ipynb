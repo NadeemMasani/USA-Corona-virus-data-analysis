{
 "cells": [
  {
   "cell_type": "code",
   "execution_count": 1,
   "metadata": {},
   "outputs": [],
   "source": [
    "#importing the libraries\n",
    "import pandas as pd\n",
    "import numpy as np\n",
    "import matplotlib.pyplot as plt\n",
    "import seaborn as sns\n",
    "import re\n",
    "import glob\n",
    "from sklearn.model_selection import train_test_split\n",
    "from sklearn.preprocessing import StandardScaler , LabelEncoder\n",
    "from sklearn.tree import DecisionTreeClassifier\n",
    "from sklearn import preprocessing\n",
    "from sklearn.metrics import classification_report,accuracy_score, f1_score, recall_score, precision_score\n",
    "import seaborn as sns\n",
    "%matplotlib inline"
   ]
  },
  {
   "cell_type": "code",
   "execution_count": 2,
   "metadata": {
    "scrolled": true
   },
   "outputs": [
    {
     "data": {
      "text/html": [
       "<div>\n",
       "<style scoped>\n",
       "    .dataframe tbody tr th:only-of-type {\n",
       "        vertical-align: middle;\n",
       "    }\n",
       "\n",
       "    .dataframe tbody tr th {\n",
       "        vertical-align: top;\n",
       "    }\n",
       "\n",
       "    .dataframe thead th {\n",
       "        text-align: right;\n",
       "    }\n",
       "</style>\n",
       "<table border=\"1\" class=\"dataframe\">\n",
       "  <thead>\n",
       "    <tr style=\"text-align: right;\">\n",
       "      <th></th>\n",
       "      <th>countyFIPS</th>\n",
       "      <th>County Name</th>\n",
       "      <th>State</th>\n",
       "      <th>population</th>\n",
       "    </tr>\n",
       "  </thead>\n",
       "  <tbody>\n",
       "    <tr>\n",
       "      <td>0</td>\n",
       "      <td>0</td>\n",
       "      <td>Statewide Unallocated</td>\n",
       "      <td>AL</td>\n",
       "      <td>0</td>\n",
       "    </tr>\n",
       "    <tr>\n",
       "      <td>1</td>\n",
       "      <td>1001</td>\n",
       "      <td>Autauga County</td>\n",
       "      <td>AL</td>\n",
       "      <td>55869</td>\n",
       "    </tr>\n",
       "    <tr>\n",
       "      <td>2</td>\n",
       "      <td>1003</td>\n",
       "      <td>Baldwin County</td>\n",
       "      <td>AL</td>\n",
       "      <td>223234</td>\n",
       "    </tr>\n",
       "    <tr>\n",
       "      <td>3</td>\n",
       "      <td>1005</td>\n",
       "      <td>Barbour County</td>\n",
       "      <td>AL</td>\n",
       "      <td>24686</td>\n",
       "    </tr>\n",
       "    <tr>\n",
       "      <td>4</td>\n",
       "      <td>1007</td>\n",
       "      <td>Bibb County</td>\n",
       "      <td>AL</td>\n",
       "      <td>22394</td>\n",
       "    </tr>\n",
       "  </tbody>\n",
       "</table>\n",
       "</div>"
      ],
      "text/plain": [
       "   countyFIPS            County Name State  population\n",
       "0           0  Statewide Unallocated    AL           0\n",
       "1        1001         Autauga County    AL       55869\n",
       "2        1003         Baldwin County    AL      223234\n",
       "3        1005         Barbour County    AL       24686\n",
       "4        1007            Bibb County    AL       22394"
      ]
     },
     "execution_count": 2,
     "metadata": {},
     "output_type": "execute_result"
    }
   ],
   "source": [
    "#importing data files\n",
    "confirmed_cases_path = 'C:/SDSU/BDA/Midterm_Exam/covid-19/covid-19/covid_confirmed_usafacts.csv'\n",
    "confirmed_deaths_path = 'C:/SDSU/BDA/Midterm_Exam/covid-19/covid-19/covid_deaths_usafacts.csv'\n",
    "county_poppulation_path = 'C:/SDSU/BDA/Midterm_Exam/covid-19/covid-19/covid_county_population_usafacts.csv'\n",
    "name_text_file_path = 'C:/SDSU/BDA/Midterm_Exam/names/*.txt'\n",
    "confirmed_cases_df = pd.read_csv(confirmed_cases_path)\n",
    "confirmed_deaths_df = pd.read_csv(confirmed_deaths_path)\n",
    "county_population = pd.read_csv(county_poppulation_path)\n",
    "county_population.head()"
   ]
  },
  {
   "cell_type": "markdown",
   "metadata": {},
   "source": [
    "# Covid - 19"
   ]
  },
  {
   "cell_type": "markdown",
   "metadata": {},
   "source": [
    "# Question 1\n",
    "Compute the total confirmed cases per day in the country. Produce a table and a line plot?\n",
    "\n",
    "First we define a function to find columnwise sum for all dates by removing the non-date columns from data frame and doing sum of each column"
   ]
  },
  {
   "cell_type": "code",
   "execution_count": 3,
   "metadata": {},
   "outputs": [],
   "source": [
    "def remove_col_and_sum(df,remove_headers):\n",
    "    all_headers = list(df.columns)\n",
    "    final_headers = list(set(all_headers) - set(remove_headers))\n",
    "    return df[final_headers].sum(axis = 0,skipna = True)\n",
    "#converting series to data frame and remaing columns and converting date colum to DateTime to sort\n",
    "def cases_per_day(confirmed_cases_df):\n",
    "    remove_headers = ['countyFIPS','County Name','State','stateFIPS']\n",
    "    confirmed_cases_per_day = remove_col_and_sum(confirmed_cases_df,remove_headers)\n",
    "    confirmed_cases_per_day = pd.DataFrame(confirmed_cases_per_day)\n",
    "    confirmed_cases_per_day.index = confirmed_cases_per_day.index.rename(\"Date\")\n",
    "    confirmed_cases_per_day = confirmed_cases_per_day.rename(columns={0: \"Cases_per_day\"})\n",
    "    confirmed_cases_per_day = confirmed_cases_per_day.reset_index()\n",
    "    confirmed_cases_per_day.Date = pd.to_datetime(confirmed_cases_per_day.Date)\n",
    "    confirmed_cases_per_day = confirmed_cases_per_day.sort_values('Date', ascending = True)\n",
    "    return confirmed_cases_per_day\n",
    "    "
   ]
  },
  {
   "cell_type": "code",
   "execution_count": 4,
   "metadata": {},
   "outputs": [
    {
     "data": {
      "text/html": [
       "<div>\n",
       "<style scoped>\n",
       "    .dataframe tbody tr th:only-of-type {\n",
       "        vertical-align: middle;\n",
       "    }\n",
       "\n",
       "    .dataframe tbody tr th {\n",
       "        vertical-align: top;\n",
       "    }\n",
       "\n",
       "    .dataframe thead th {\n",
       "        text-align: right;\n",
       "    }\n",
       "</style>\n",
       "<table border=\"1\" class=\"dataframe\">\n",
       "  <thead>\n",
       "    <tr style=\"text-align: right;\">\n",
       "      <th></th>\n",
       "      <th>Date</th>\n",
       "      <th>Cases_per_day</th>\n",
       "    </tr>\n",
       "  </thead>\n",
       "  <tbody>\n",
       "    <tr>\n",
       "      <td>57</td>\n",
       "      <td>2020-03-28</td>\n",
       "      <td>122608</td>\n",
       "    </tr>\n",
       "    <tr>\n",
       "      <td>71</td>\n",
       "      <td>2020-03-29</td>\n",
       "      <td>141409</td>\n",
       "    </tr>\n",
       "    <tr>\n",
       "      <td>44</td>\n",
       "      <td>2020-03-30</td>\n",
       "      <td>163487</td>\n",
       "    </tr>\n",
       "    <tr>\n",
       "      <td>40</td>\n",
       "      <td>2020-03-31</td>\n",
       "      <td>186517</td>\n",
       "    </tr>\n",
       "    <tr>\n",
       "      <td>32</td>\n",
       "      <td>2020-04-01</td>\n",
       "      <td>212915</td>\n",
       "    </tr>\n",
       "    <tr>\n",
       "      <td>58</td>\n",
       "      <td>2020-04-02</td>\n",
       "      <td>241643</td>\n",
       "    </tr>\n",
       "    <tr>\n",
       "      <td>65</td>\n",
       "      <td>2020-04-03</td>\n",
       "      <td>276889</td>\n",
       "    </tr>\n",
       "    <tr>\n",
       "      <td>50</td>\n",
       "      <td>2020-04-04</td>\n",
       "      <td>310597</td>\n",
       "    </tr>\n",
       "    <tr>\n",
       "      <td>70</td>\n",
       "      <td>2020-04-05</td>\n",
       "      <td>335338</td>\n",
       "    </tr>\n",
       "    <tr>\n",
       "      <td>0</td>\n",
       "      <td>2020-04-06</td>\n",
       "      <td>365115</td>\n",
       "    </tr>\n",
       "  </tbody>\n",
       "</table>\n",
       "</div>"
      ],
      "text/plain": [
       "         Date  Cases_per_day\n",
       "57 2020-03-28         122608\n",
       "71 2020-03-29         141409\n",
       "44 2020-03-30         163487\n",
       "40 2020-03-31         186517\n",
       "32 2020-04-01         212915\n",
       "58 2020-04-02         241643\n",
       "65 2020-04-03         276889\n",
       "50 2020-04-04         310597\n",
       "70 2020-04-05         335338\n",
       "0  2020-04-06         365115"
      ]
     },
     "execution_count": 4,
     "metadata": {},
     "output_type": "execute_result"
    }
   ],
   "source": [
    "confirmed_cases_per_day = cases_per_day(confirmed_cases_df)\n",
    "confirmed_cases_per_day.tail(10)"
   ]
  },
  {
   "cell_type": "code",
   "execution_count": 5,
   "metadata": {
    "scrolled": false
   },
   "outputs": [
    {
     "data": {
      "text/plain": [
       "<matplotlib.axes._subplots.AxesSubplot at 0x24f91180988>"
      ]
     },
     "execution_count": 5,
     "metadata": {},
     "output_type": "execute_result"
    },
    {
     "data": {
      "image/png": "[encoded data removed]",
      "text/plain": [
       "<Figure size 432x288 with 1 Axes>"
      ]
     },
     "metadata": {
      "needs_background": "light"
     },
     "output_type": "display_data"
    }
   ],
   "source": [
    "confirmed_cases_per_day.plot.line(x = 'Date', y = 'Cases_per_day')"
   ]
  },
  {
   "cell_type": "markdown",
   "metadata": {},
   "source": [
    "From the table of results and graph we see that number of confirmed COVID-19 cases per day are increasing exponentially in USA "
   ]
  },
  {
   "cell_type": "markdown",
   "metadata": {},
   "source": [
    "## Question 2 \n",
    "Compute the total confirmed cases per week in the country. Produce a table of results. Plot\n",
    "the results using a log line plot. That is the log of the number of cases. A log plot of an exponential process will produce a straight line. Does the resulting plot look like an exponential?"
   ]
  },
  {
   "cell_type": "markdown",
   "metadata": {},
   "source": [
    "Assumtion : I have defined a week starting wednesday(first day) to next wednedsay. Since the last day of dataset is a monday last week (week 12) is not considered as it is incomplete\n",
    "\n",
    "Defined a function to find number of cases per week. The function first takes the week number of current calendar year which is 4 to strat and subracts 3 from each week to get the covid-19 week. The we filter the data from for numbers each wednesnay"
   ]
  },
  {
   "cell_type": "code",
   "execution_count": 6,
   "metadata": {},
   "outputs": [],
   "source": [
    "def cases_per_week(confirmed_cases_df):\n",
    "    confirmed_cases_per_week = cases_per_day(confirmed_cases_df)\n",
    "    confirmed_cases_per_week['Week'] = confirmed_cases_per_week.Date.dt.week\n",
    "    confirmed_cases_per_week['Week'] = confirmed_cases_per_week[\"Week\"] - 3\n",
    "    confirmed_cases_per_week['day_of_week'] = confirmed_cases_per_week.Date.dt.day_name()\n",
    "    confirmed_cases_per_week = confirmed_cases_per_week[confirmed_cases_per_week['day_of_week'] == 'Wednesday'] \n",
    "    return confirmed_cases_per_week"
   ]
  },
  {
   "cell_type": "code",
   "execution_count": 7,
   "metadata": {},
   "outputs": [
    {
     "data": {
      "text/html": [
       "<div>\n",
       "<style scoped>\n",
       "    .dataframe tbody tr th:only-of-type {\n",
       "        vertical-align: middle;\n",
       "    }\n",
       "\n",
       "    .dataframe tbody tr th {\n",
       "        vertical-align: top;\n",
       "    }\n",
       "\n",
       "    .dataframe thead th {\n",
       "        text-align: right;\n",
       "    }\n",
       "</style>\n",
       "<table border=\"1\" class=\"dataframe\">\n",
       "  <thead>\n",
       "    <tr style=\"text-align: right;\">\n",
       "      <th></th>\n",
       "      <th>Date</th>\n",
       "      <th>Cases_per_day</th>\n",
       "      <th>Week</th>\n",
       "      <th>day_of_week</th>\n",
       "    </tr>\n",
       "  </thead>\n",
       "  <tbody>\n",
       "    <tr>\n",
       "      <td>35</td>\n",
       "      <td>2020-01-22</td>\n",
       "      <td>1</td>\n",
       "      <td>1</td>\n",
       "      <td>Wednesday</td>\n",
       "    </tr>\n",
       "    <tr>\n",
       "      <td>46</td>\n",
       "      <td>2020-01-29</td>\n",
       "      <td>5</td>\n",
       "      <td>2</td>\n",
       "      <td>Wednesday</td>\n",
       "    </tr>\n",
       "    <tr>\n",
       "      <td>64</td>\n",
       "      <td>2020-02-05</td>\n",
       "      <td>11</td>\n",
       "      <td>3</td>\n",
       "      <td>Wednesday</td>\n",
       "    </tr>\n",
       "    <tr>\n",
       "      <td>41</td>\n",
       "      <td>2020-02-12</td>\n",
       "      <td>12</td>\n",
       "      <td>4</td>\n",
       "      <td>Wednesday</td>\n",
       "    </tr>\n",
       "    <tr>\n",
       "      <td>43</td>\n",
       "      <td>2020-02-19</td>\n",
       "      <td>13</td>\n",
       "      <td>5</td>\n",
       "      <td>Wednesday</td>\n",
       "    </tr>\n",
       "    <tr>\n",
       "      <td>68</td>\n",
       "      <td>2020-02-26</td>\n",
       "      <td>15</td>\n",
       "      <td>6</td>\n",
       "      <td>Wednesday</td>\n",
       "    </tr>\n",
       "    <tr>\n",
       "      <td>8</td>\n",
       "      <td>2020-03-04</td>\n",
       "      <td>103</td>\n",
       "      <td>7</td>\n",
       "      <td>Wednesday</td>\n",
       "    </tr>\n",
       "    <tr>\n",
       "      <td>53</td>\n",
       "      <td>2020-03-11</td>\n",
       "      <td>1325</td>\n",
       "      <td>8</td>\n",
       "      <td>Wednesday</td>\n",
       "    </tr>\n",
       "    <tr>\n",
       "      <td>30</td>\n",
       "      <td>2020-03-18</td>\n",
       "      <td>8997</td>\n",
       "      <td>9</td>\n",
       "      <td>Wednesday</td>\n",
       "    </tr>\n",
       "    <tr>\n",
       "      <td>42</td>\n",
       "      <td>2020-03-25</td>\n",
       "      <td>68244</td>\n",
       "      <td>10</td>\n",
       "      <td>Wednesday</td>\n",
       "    </tr>\n",
       "    <tr>\n",
       "      <td>32</td>\n",
       "      <td>2020-04-01</td>\n",
       "      <td>212915</td>\n",
       "      <td>11</td>\n",
       "      <td>Wednesday</td>\n",
       "    </tr>\n",
       "  </tbody>\n",
       "</table>\n",
       "</div>"
      ],
      "text/plain": [
       "         Date  Cases_per_day  Week day_of_week\n",
       "35 2020-01-22              1     1   Wednesday\n",
       "46 2020-01-29              5     2   Wednesday\n",
       "64 2020-02-05             11     3   Wednesday\n",
       "41 2020-02-12             12     4   Wednesday\n",
       "43 2020-02-19             13     5   Wednesday\n",
       "68 2020-02-26             15     6   Wednesday\n",
       "8  2020-03-04            103     7   Wednesday\n",
       "53 2020-03-11           1325     8   Wednesday\n",
       "30 2020-03-18           8997     9   Wednesday\n",
       "42 2020-03-25          68244    10   Wednesday\n",
       "32 2020-04-01         212915    11   Wednesday"
      ]
     },
     "execution_count": 7,
     "metadata": {},
     "output_type": "execute_result"
    }
   ],
   "source": [
    "cases_per_week_df = cases_per_week(confirmed_cases_df)\n",
    "cases_per_week_df"
   ]
  },
  {
   "cell_type": "code",
   "execution_count": 8,
   "metadata": {
    "scrolled": true
   },
   "outputs": [
    {
     "data": {
      "text/plain": [
       "<matplotlib.axes._subplots.AxesSubplot at 0x24f916a1548>"
      ]
     },
     "execution_count": 8,
     "metadata": {},
     "output_type": "execute_result"
    },
    {
     "data": {
      "image/png": "[encoded data removed]",
      "text/plain": [
       "<Figure size 432x288 with 1 Axes>"
      ]
     },
     "metadata": {
      "needs_background": "light"
     },
     "output_type": "display_data"
    }
   ],
   "source": [
    "cases_per_week_df.plot.line(x='Week', y = 'Cases_per_day', logy = True)"
   ]
  },
  {
   "cell_type": "markdown",
   "metadata": {},
   "source": [
    "The Log plot of the result for number of cases per week is a straight line that means number of cases are increasing exponentially in USA.\n",
    "\n",
    "The resulting graph after taking log of number of cases per week is not an exponential curve "
   ]
  },
  {
   "cell_type": "markdown",
   "metadata": {},
   "source": [
    "## Question 3\n",
    "Compute the number of new confirmed cases per week in the the country. Produce a table\n",
    "of results"
   ]
  },
  {
   "cell_type": "code",
   "execution_count": 9,
   "metadata": {},
   "outputs": [],
   "source": [
    "def new_cases_week(confirmed_cases_df):\n",
    "    new_cases_week = cases_per_week(confirmed_cases_df)\n",
    "    first_week = new_cases_week[new_cases_week.Week == 1]\n",
    "    first_week['New_cases'] = first_week.iloc[:,1]\n",
    "    new_cases_week['New_cases'] = new_cases_week.Cases_per_day.diff(periods = 1)\n",
    "    new_cases_week = new_cases_week.dropna()\n",
    "    new_cases_week = first_week.append(new_cases_week)\n",
    "    return new_cases_week"
   ]
  },
  {
   "cell_type": "code",
   "execution_count": 10,
   "metadata": {
    "scrolled": true
   },
   "outputs": [
    {
     "name": "stderr",
     "output_type": "stream",
     "text": [
      "C:\\Users\\nadee\\Anaconda3\\lib\\site-packages\\ipykernel_launcher.py:4: SettingWithCopyWarning: \n",
      "A value is trying to be set on a copy of a slice from a DataFrame.\n",
      "Try using .loc[row_indexer,col_indexer] = value instead\n",
      "\n",
      "See the caveats in the documentation: http://pandas.pydata.org/pandas-docs/stable/user_guide/indexing.html#returning-a-view-versus-a-copy\n",
      "  after removing the cwd from sys.path.\n"
     ]
    },
    {
     "data": {
      "text/html": [
       "<div>\n",
       "<style scoped>\n",
       "    .dataframe tbody tr th:only-of-type {\n",
       "        vertical-align: middle;\n",
       "    }\n",
       "\n",
       "    .dataframe tbody tr th {\n",
       "        vertical-align: top;\n",
       "    }\n",
       "\n",
       "    .dataframe thead th {\n",
       "        text-align: right;\n",
       "    }\n",
       "</style>\n",
       "<table border=\"1\" class=\"dataframe\">\n",
       "  <thead>\n",
       "    <tr style=\"text-align: right;\">\n",
       "      <th></th>\n",
       "      <th>Date</th>\n",
       "      <th>Cases_per_day</th>\n",
       "      <th>Week</th>\n",
       "      <th>day_of_week</th>\n",
       "      <th>New_cases</th>\n",
       "    </tr>\n",
       "  </thead>\n",
       "  <tbody>\n",
       "    <tr>\n",
       "      <td>35</td>\n",
       "      <td>2020-01-22</td>\n",
       "      <td>1</td>\n",
       "      <td>1</td>\n",
       "      <td>Wednesday</td>\n",
       "      <td>1.0</td>\n",
       "    </tr>\n",
       "    <tr>\n",
       "      <td>46</td>\n",
       "      <td>2020-01-29</td>\n",
       "      <td>5</td>\n",
       "      <td>2</td>\n",
       "      <td>Wednesday</td>\n",
       "      <td>4.0</td>\n",
       "    </tr>\n",
       "    <tr>\n",
       "      <td>64</td>\n",
       "      <td>2020-02-05</td>\n",
       "      <td>11</td>\n",
       "      <td>3</td>\n",
       "      <td>Wednesday</td>\n",
       "      <td>6.0</td>\n",
       "    </tr>\n",
       "    <tr>\n",
       "      <td>41</td>\n",
       "      <td>2020-02-12</td>\n",
       "      <td>12</td>\n",
       "      <td>4</td>\n",
       "      <td>Wednesday</td>\n",
       "      <td>1.0</td>\n",
       "    </tr>\n",
       "    <tr>\n",
       "      <td>43</td>\n",
       "      <td>2020-02-19</td>\n",
       "      <td>13</td>\n",
       "      <td>5</td>\n",
       "      <td>Wednesday</td>\n",
       "      <td>1.0</td>\n",
       "    </tr>\n",
       "    <tr>\n",
       "      <td>68</td>\n",
       "      <td>2020-02-26</td>\n",
       "      <td>15</td>\n",
       "      <td>6</td>\n",
       "      <td>Wednesday</td>\n",
       "      <td>2.0</td>\n",
       "    </tr>\n",
       "    <tr>\n",
       "      <td>8</td>\n",
       "      <td>2020-03-04</td>\n",
       "      <td>103</td>\n",
       "      <td>7</td>\n",
       "      <td>Wednesday</td>\n",
       "      <td>88.0</td>\n",
       "    </tr>\n",
       "    <tr>\n",
       "      <td>53</td>\n",
       "      <td>2020-03-11</td>\n",
       "      <td>1325</td>\n",
       "      <td>8</td>\n",
       "      <td>Wednesday</td>\n",
       "      <td>1222.0</td>\n",
       "    </tr>\n",
       "    <tr>\n",
       "      <td>30</td>\n",
       "      <td>2020-03-18</td>\n",
       "      <td>8997</td>\n",
       "      <td>9</td>\n",
       "      <td>Wednesday</td>\n",
       "      <td>7672.0</td>\n",
       "    </tr>\n",
       "    <tr>\n",
       "      <td>42</td>\n",
       "      <td>2020-03-25</td>\n",
       "      <td>68244</td>\n",
       "      <td>10</td>\n",
       "      <td>Wednesday</td>\n",
       "      <td>59247.0</td>\n",
       "    </tr>\n",
       "    <tr>\n",
       "      <td>32</td>\n",
       "      <td>2020-04-01</td>\n",
       "      <td>212915</td>\n",
       "      <td>11</td>\n",
       "      <td>Wednesday</td>\n",
       "      <td>144671.0</td>\n",
       "    </tr>\n",
       "  </tbody>\n",
       "</table>\n",
       "</div>"
      ],
      "text/plain": [
       "         Date  Cases_per_day  Week day_of_week  New_cases\n",
       "35 2020-01-22              1     1   Wednesday        1.0\n",
       "46 2020-01-29              5     2   Wednesday        4.0\n",
       "64 2020-02-05             11     3   Wednesday        6.0\n",
       "41 2020-02-12             12     4   Wednesday        1.0\n",
       "43 2020-02-19             13     5   Wednesday        1.0\n",
       "68 2020-02-26             15     6   Wednesday        2.0\n",
       "8  2020-03-04            103     7   Wednesday       88.0\n",
       "53 2020-03-11           1325     8   Wednesday     1222.0\n",
       "30 2020-03-18           8997     9   Wednesday     7672.0\n",
       "42 2020-03-25          68244    10   Wednesday    59247.0\n",
       "32 2020-04-01         212915    11   Wednesday   144671.0"
      ]
     },
     "execution_count": 10,
     "metadata": {},
     "output_type": "execute_result"
    }
   ],
   "source": [
    "new_cases_per_week_df = new_cases_week(confirmed_cases_df)\n",
    "new_cases_per_week_df"
   ]
  },
  {
   "cell_type": "markdown",
   "metadata": {},
   "source": [
    "The resulting table of results for new cases per week shows that new cases of covid-19 are increasing exponentially in USA"
   ]
  },
  {
   "cell_type": "markdown",
   "metadata": {},
   "source": [
    "## Question 4\n",
    "\n",
    "Using the same function to find deaths per week as for confirmed cases per week, since the last day of dataset is a monday last week (week 12) is not considered as it is incomplete"
   ]
  },
  {
   "cell_type": "code",
   "execution_count": 11,
   "metadata": {
    "scrolled": true
   },
   "outputs": [
    {
     "data": {
      "text/html": [
       "<div>\n",
       "<style scoped>\n",
       "    .dataframe tbody tr th:only-of-type {\n",
       "        vertical-align: middle;\n",
       "    }\n",
       "\n",
       "    .dataframe tbody tr th {\n",
       "        vertical-align: top;\n",
       "    }\n",
       "\n",
       "    .dataframe thead th {\n",
       "        text-align: right;\n",
       "    }\n",
       "</style>\n",
       "<table border=\"1\" class=\"dataframe\">\n",
       "  <thead>\n",
       "    <tr style=\"text-align: right;\">\n",
       "      <th></th>\n",
       "      <th>Date</th>\n",
       "      <th>Deaths</th>\n",
       "      <th>Week</th>\n",
       "      <th>day_of_week</th>\n",
       "    </tr>\n",
       "  </thead>\n",
       "  <tbody>\n",
       "    <tr>\n",
       "      <td>35</td>\n",
       "      <td>2020-01-22</td>\n",
       "      <td>0.0</td>\n",
       "      <td>1</td>\n",
       "      <td>Wednesday</td>\n",
       "    </tr>\n",
       "    <tr>\n",
       "      <td>46</td>\n",
       "      <td>2020-01-29</td>\n",
       "      <td>0.0</td>\n",
       "      <td>2</td>\n",
       "      <td>Wednesday</td>\n",
       "    </tr>\n",
       "    <tr>\n",
       "      <td>64</td>\n",
       "      <td>2020-02-05</td>\n",
       "      <td>0.0</td>\n",
       "      <td>3</td>\n",
       "      <td>Wednesday</td>\n",
       "    </tr>\n",
       "    <tr>\n",
       "      <td>41</td>\n",
       "      <td>2020-02-12</td>\n",
       "      <td>0.0</td>\n",
       "      <td>4</td>\n",
       "      <td>Wednesday</td>\n",
       "    </tr>\n",
       "    <tr>\n",
       "      <td>43</td>\n",
       "      <td>2020-02-19</td>\n",
       "      <td>0.0</td>\n",
       "      <td>5</td>\n",
       "      <td>Wednesday</td>\n",
       "    </tr>\n",
       "    <tr>\n",
       "      <td>68</td>\n",
       "      <td>2020-02-26</td>\n",
       "      <td>0.0</td>\n",
       "      <td>6</td>\n",
       "      <td>Wednesday</td>\n",
       "    </tr>\n",
       "    <tr>\n",
       "      <td>8</td>\n",
       "      <td>2020-03-04</td>\n",
       "      <td>11.0</td>\n",
       "      <td>7</td>\n",
       "      <td>Wednesday</td>\n",
       "    </tr>\n",
       "    <tr>\n",
       "      <td>53</td>\n",
       "      <td>2020-03-11</td>\n",
       "      <td>37.0</td>\n",
       "      <td>8</td>\n",
       "      <td>Wednesday</td>\n",
       "    </tr>\n",
       "    <tr>\n",
       "      <td>30</td>\n",
       "      <td>2020-03-18</td>\n",
       "      <td>142.0</td>\n",
       "      <td>9</td>\n",
       "      <td>Wednesday</td>\n",
       "    </tr>\n",
       "    <tr>\n",
       "      <td>42</td>\n",
       "      <td>2020-03-25</td>\n",
       "      <td>951.0</td>\n",
       "      <td>10</td>\n",
       "      <td>Wednesday</td>\n",
       "    </tr>\n",
       "    <tr>\n",
       "      <td>32</td>\n",
       "      <td>2020-04-01</td>\n",
       "      <td>4479.0</td>\n",
       "      <td>11</td>\n",
       "      <td>Wednesday</td>\n",
       "    </tr>\n",
       "  </tbody>\n",
       "</table>\n",
       "</div>"
      ],
      "text/plain": [
       "         Date  Deaths  Week day_of_week\n",
       "35 2020-01-22     0.0     1   Wednesday\n",
       "46 2020-01-29     0.0     2   Wednesday\n",
       "64 2020-02-05     0.0     3   Wednesday\n",
       "41 2020-02-12     0.0     4   Wednesday\n",
       "43 2020-02-19     0.0     5   Wednesday\n",
       "68 2020-02-26     0.0     6   Wednesday\n",
       "8  2020-03-04    11.0     7   Wednesday\n",
       "53 2020-03-11    37.0     8   Wednesday\n",
       "30 2020-03-18   142.0     9   Wednesday\n",
       "42 2020-03-25   951.0    10   Wednesday\n",
       "32 2020-04-01  4479.0    11   Wednesday"
      ]
     },
     "execution_count": 11,
     "metadata": {},
     "output_type": "execute_result"
    }
   ],
   "source": [
    "confirmed_deaths_df = confirmed_deaths_df[confirmed_deaths_df['County Name'] != 'Statewide Unallocated']\n",
    "deaths_per_week = cases_per_week(confirmed_deaths_df)\n",
    "deaths_per_week = deaths_per_week.rename(columns = {'Cases_per_day':'Deaths'})\n",
    "deaths_per_week"
   ]
  },
  {
   "cell_type": "code",
   "execution_count": 12,
   "metadata": {
    "scrolled": true
   },
   "outputs": [
    {
     "data": {
      "text/plain": [
       "<matplotlib.axes._subplots.AxesSubplot at 0x24f918f00c8>"
      ]
     },
     "execution_count": 12,
     "metadata": {},
     "output_type": "execute_result"
    },
    {
     "data": {
      "image/png": "[encoded data removed]",
      "text/plain": [
       "<Figure size 432x288 with 1 Axes>"
      ]
     },
     "metadata": {
      "needs_background": "light"
     },
     "output_type": "display_data"
    }
   ],
   "source": [
    "deaths_per_week.plot.line(x='Week', y = 'Deaths', logy = True)"
   ]
  },
  {
   "cell_type": "markdown",
   "metadata": {},
   "source": [
    "The resulting table and plot shows that deaths due to covid-19 in USA started in week 7 from the first confirmed cases of virus and then is increasing exponentiallys as the log plot for number of deaths is a straight line"
   ]
  },
  {
   "cell_type": "markdown",
   "metadata": {},
   "source": [
    "## Question 5\n",
    "\n",
    "Find the 10 counties with the most known number of covid-19 cases. Plot the number of\n",
    "cases each week. What are the differences or similarities?"
   ]
  },
  {
   "cell_type": "code",
   "execution_count": 13,
   "metadata": {},
   "outputs": [
    {
     "data": {
      "text/plain": [
       "['Queens County',\n",
       " 'Kings County',\n",
       " 'Nassau County',\n",
       " 'Bronx County',\n",
       " 'Westchester County',\n",
       " 'Suffolk County',\n",
       " 'New York County',\n",
       " 'Cook County',\n",
       " 'Wayne County',\n",
       " 'Bergen County']"
      ]
     },
     "execution_count": 13,
     "metadata": {},
     "output_type": "execute_result"
    }
   ],
   "source": [
    "county = confirmed_cases_df.iloc[:,np.r_[0,1,-1]]\n",
    "top_10 = county.sort_values(by = county.columns[-1], ascending = False ).head(10)\n",
    "county_names = list(top_10['County Name'])\n",
    "county_names"
   ]
  },
  {
   "cell_type": "code",
   "execution_count": 14,
   "metadata": {
    "scrolled": true
   },
   "outputs": [
    {
     "name": "stderr",
     "output_type": "stream",
     "text": [
      "C:\\Users\\nadee\\Anaconda3\\lib\\site-packages\\ipykernel_launcher.py:9: SettingWithCopyWarning: \n",
      "A value is trying to be set on a copy of a slice from a DataFrame.\n",
      "Try using .loc[row_indexer,col_indexer] = value instead\n",
      "\n",
      "See the caveats in the documentation: http://pandas.pydata.org/pandas-docs/stable/user_guide/indexing.html#returning-a-view-versus-a-copy\n",
      "  if __name__ == '__main__':\n"
     ]
    },
    {
     "data": {
      "text/html": [
       "<div>\n",
       "<style scoped>\n",
       "    .dataframe tbody tr th:only-of-type {\n",
       "        vertical-align: middle;\n",
       "    }\n",
       "\n",
       "    .dataframe tbody tr th {\n",
       "        vertical-align: top;\n",
       "    }\n",
       "\n",
       "    .dataframe thead th {\n",
       "        text-align: right;\n",
       "    }\n",
       "</style>\n",
       "<table border=\"1\" class=\"dataframe\">\n",
       "  <thead>\n",
       "    <tr style=\"text-align: right;\">\n",
       "      <th></th>\n",
       "      <th>Queens_county</th>\n",
       "      <th>Kings_County</th>\n",
       "      <th>Nassau_County</th>\n",
       "      <th>Bronx_County</th>\n",
       "      <th>Westchester_County</th>\n",
       "      <th>Suffolk_County</th>\n",
       "      <th>New_York_County</th>\n",
       "      <th>Cook_County</th>\n",
       "      <th>Wayne_County</th>\n",
       "      <th>Bergen_County</th>\n",
       "    </tr>\n",
       "    <tr>\n",
       "      <th>Week</th>\n",
       "      <th></th>\n",
       "      <th></th>\n",
       "      <th></th>\n",
       "      <th></th>\n",
       "      <th></th>\n",
       "      <th></th>\n",
       "      <th></th>\n",
       "      <th></th>\n",
       "      <th></th>\n",
       "      <th></th>\n",
       "    </tr>\n",
       "  </thead>\n",
       "  <tbody>\n",
       "    <tr>\n",
       "      <td>1</td>\n",
       "      <td>0</td>\n",
       "      <td>0</td>\n",
       "      <td>0</td>\n",
       "      <td>0</td>\n",
       "      <td>0</td>\n",
       "      <td>0</td>\n",
       "      <td>0</td>\n",
       "      <td>0</td>\n",
       "      <td>0</td>\n",
       "      <td>0</td>\n",
       "    </tr>\n",
       "    <tr>\n",
       "      <td>2</td>\n",
       "      <td>0</td>\n",
       "      <td>0</td>\n",
       "      <td>0</td>\n",
       "      <td>0</td>\n",
       "      <td>0</td>\n",
       "      <td>0</td>\n",
       "      <td>0</td>\n",
       "      <td>1</td>\n",
       "      <td>0</td>\n",
       "      <td>0</td>\n",
       "    </tr>\n",
       "    <tr>\n",
       "      <td>3</td>\n",
       "      <td>0</td>\n",
       "      <td>0</td>\n",
       "      <td>0</td>\n",
       "      <td>0</td>\n",
       "      <td>0</td>\n",
       "      <td>1</td>\n",
       "      <td>0</td>\n",
       "      <td>2</td>\n",
       "      <td>0</td>\n",
       "      <td>0</td>\n",
       "    </tr>\n",
       "    <tr>\n",
       "      <td>4</td>\n",
       "      <td>0</td>\n",
       "      <td>0</td>\n",
       "      <td>0</td>\n",
       "      <td>0</td>\n",
       "      <td>0</td>\n",
       "      <td>1</td>\n",
       "      <td>0</td>\n",
       "      <td>2</td>\n",
       "      <td>0</td>\n",
       "      <td>0</td>\n",
       "    </tr>\n",
       "    <tr>\n",
       "      <td>5</td>\n",
       "      <td>0</td>\n",
       "      <td>0</td>\n",
       "      <td>0</td>\n",
       "      <td>0</td>\n",
       "      <td>0</td>\n",
       "      <td>1</td>\n",
       "      <td>0</td>\n",
       "      <td>2</td>\n",
       "      <td>0</td>\n",
       "      <td>0</td>\n",
       "    </tr>\n",
       "    <tr>\n",
       "      <td>6</td>\n",
       "      <td>0</td>\n",
       "      <td>0</td>\n",
       "      <td>0</td>\n",
       "      <td>0</td>\n",
       "      <td>0</td>\n",
       "      <td>1</td>\n",
       "      <td>0</td>\n",
       "      <td>2</td>\n",
       "      <td>0</td>\n",
       "      <td>0</td>\n",
       "    </tr>\n",
       "    <tr>\n",
       "      <td>7</td>\n",
       "      <td>0</td>\n",
       "      <td>0</td>\n",
       "      <td>0</td>\n",
       "      <td>0</td>\n",
       "      <td>10</td>\n",
       "      <td>1</td>\n",
       "      <td>1</td>\n",
       "      <td>4</td>\n",
       "      <td>0</td>\n",
       "      <td>0</td>\n",
       "    </tr>\n",
       "    <tr>\n",
       "      <td>8</td>\n",
       "      <td>4</td>\n",
       "      <td>14</td>\n",
       "      <td>29</td>\n",
       "      <td>3</td>\n",
       "      <td>121</td>\n",
       "      <td>25</td>\n",
       "      <td>18</td>\n",
       "      <td>22</td>\n",
       "      <td>2</td>\n",
       "      <td>7</td>\n",
       "    </tr>\n",
       "    <tr>\n",
       "      <td>9</td>\n",
       "      <td>533</td>\n",
       "      <td>505</td>\n",
       "      <td>184</td>\n",
       "      <td>303</td>\n",
       "      <td>538</td>\n",
       "      <td>167</td>\n",
       "      <td>590</td>\n",
       "      <td>178</td>\n",
       "      <td>25</td>\n",
       "      <td>114</td>\n",
       "    </tr>\n",
       "    <tr>\n",
       "      <td>10</td>\n",
       "      <td>6420</td>\n",
       "      <td>5232</td>\n",
       "      <td>3289</td>\n",
       "      <td>3542</td>\n",
       "      <td>4691</td>\n",
       "      <td>2602</td>\n",
       "      <td>3616</td>\n",
       "      <td>1418</td>\n",
       "      <td>1136</td>\n",
       "      <td>819</td>\n",
       "    </tr>\n",
       "    <tr>\n",
       "      <td>11</td>\n",
       "      <td>15217</td>\n",
       "      <td>12279</td>\n",
       "      <td>9565</td>\n",
       "      <td>8607</td>\n",
       "      <td>10683</td>\n",
       "      <td>9229</td>\n",
       "      <td>7022</td>\n",
       "      <td>5153</td>\n",
       "      <td>4525</td>\n",
       "      <td>3494</td>\n",
       "    </tr>\n",
       "  </tbody>\n",
       "</table>\n",
       "</div>"
      ],
      "text/plain": [
       "      Queens_county  Kings_County  Nassau_County  Bronx_County  \\\n",
       "Week                                                             \n",
       "1                 0             0              0             0   \n",
       "2                 0             0              0             0   \n",
       "3                 0             0              0             0   \n",
       "4                 0             0              0             0   \n",
       "5                 0             0              0             0   \n",
       "6                 0             0              0             0   \n",
       "7                 0             0              0             0   \n",
       "8                 4            14             29             3   \n",
       "9               533           505            184           303   \n",
       "10             6420          5232           3289          3542   \n",
       "11            15217         12279           9565          8607   \n",
       "\n",
       "      Westchester_County  Suffolk_County  New_York_County  Cook_County  \\\n",
       "Week                                                                     \n",
       "1                      0               0                0            0   \n",
       "2                      0               0                0            1   \n",
       "3                      0               1                0            2   \n",
       "4                      0               1                0            2   \n",
       "5                      0               1                0            2   \n",
       "6                      0               1                0            2   \n",
       "7                     10               1                1            4   \n",
       "8                    121              25               18           22   \n",
       "9                    538             167              590          178   \n",
       "10                  4691            2602             3616         1418   \n",
       "11                 10683            9229             7022         5153   \n",
       "\n",
       "      Wayne_County  Bergen_County  \n",
       "Week                               \n",
       "1                0              0  \n",
       "2                0              0  \n",
       "3                0              0  \n",
       "4                0              0  \n",
       "5                0              0  \n",
       "6                0              0  \n",
       "7                0              0  \n",
       "8                2              7  \n",
       "9               25            114  \n",
       "10            1136            819  \n",
       "11            4525           3494  "
      ]
     },
     "execution_count": 14,
     "metadata": {},
     "output_type": "execute_result"
    }
   ],
   "source": [
    "Queens_county = confirmed_cases_df[confirmed_cases_df['County Name'] == 'Queens County']\n",
    "Queens_county = cases_per_week(Queens_county)\n",
    "Queens_county = Queens_county.rename(columns = {\"Cases_per_day\" : \"Queens_county\"})\n",
    "top_10_county_df = Queens_county[[\"Week\",\"Queens_county\"]]\n",
    "\n",
    "Kings_County = confirmed_cases_df[confirmed_cases_df['County Name'] == 'Kings County']\n",
    "Kings_County = cases_per_week(Kings_County)\n",
    "Kings_County = Kings_County.rename(columns = {\"Cases_per_day\" : \"Kings_County\"})\n",
    "top_10_county_df['Kings_County'] = Kings_County[\"Kings_County\"]\n",
    "\n",
    "Nassau_County = confirmed_cases_df[confirmed_cases_df['County Name'] == 'Nassau County']\n",
    "Nassau_County = cases_per_week(Nassau_County)\n",
    "Nassau_County = Nassau_County.rename(columns = {\"Cases_per_day\" : \"Nassau_County\"})\n",
    "top_10_county_df['Nassau_County'] = Nassau_County[\"Nassau_County\"]\n",
    "\n",
    "Bronx_County = confirmed_cases_df[confirmed_cases_df['County Name'] == 'Bronx County']\n",
    "Bronx_County = cases_per_week(Bronx_County)\n",
    "Bronx_County = Bronx_County.rename(columns = {\"Cases_per_day\" : \"Bronx_County\"})\n",
    "top_10_county_df['Bronx_County'] = Bronx_County[\"Bronx_County\"]\n",
    "\n",
    "Westchester_County = confirmed_cases_df[confirmed_cases_df['County Name'] == 'Westchester County']\n",
    "Westchester_County = cases_per_week(Westchester_County)\n",
    "Westchester_County = Westchester_County.rename(columns = {\"Cases_per_day\" : \"Westchester_County\"})\n",
    "top_10_county_df['Westchester_County'] = Westchester_County[\"Westchester_County\"]\n",
    "\n",
    "Suffolk_County = confirmed_cases_df[confirmed_cases_df['County Name'] == 'Suffolk County']\n",
    "Suffolk_County = cases_per_week(Suffolk_County)\n",
    "Suffolk_County = Suffolk_County.rename(columns = {\"Cases_per_day\" : \"Suffolk_County\"})\n",
    "top_10_county_df['Suffolk_County'] = Suffolk_County[\"Suffolk_County\"]\n",
    "\n",
    "New_York_County = confirmed_cases_df[confirmed_cases_df['County Name'] == 'New York County']\n",
    "New_York_County = cases_per_week(New_York_County)\n",
    "New_York_County = New_York_County.rename(columns = {\"Cases_per_day\" : \"New_York_County\"})\n",
    "top_10_county_df['New_York_County'] = New_York_County[\"New_York_County\"]\n",
    "\n",
    "Cook_County = confirmed_cases_df[confirmed_cases_df['County Name'] == 'Cook County']\n",
    "Cook_County = cases_per_week(Cook_County)\n",
    "Cook_County = Cook_County.rename(columns = {\"Cases_per_day\" : \"Cook_County\"})\n",
    "top_10_county_df['Cook_County'] = Cook_County[\"Cook_County\"]\n",
    "\n",
    "Wayne_County = confirmed_cases_df[confirmed_cases_df['County Name'] == 'Wayne County']\n",
    "Wayne_County = cases_per_week(Wayne_County)\n",
    "Wayne_County = Wayne_County.rename(columns = {\"Cases_per_day\" : \"Wayne_County\"})\n",
    "top_10_county_df['Wayne_County'] = Wayne_County[\"Wayne_County\"]\n",
    "\n",
    "Bergen_County = confirmed_cases_df[confirmed_cases_df['County Name'] == 'Bergen County']\n",
    "Bergen_County = cases_per_week(Bergen_County)\n",
    "Bergen_County = Bergen_County.rename(columns = {\"Cases_per_day\" : \"Bergen_County\"})\n",
    "top_10_county_df['Bergen_County'] = Bergen_County[\"Bergen_County\"]\n",
    "\n",
    "top_10_county_df.index = top_10_county_df.Week\n",
    "top_10_county_df = top_10_county_df.drop(columns = 'Week')\n",
    "top_10_county_df"
   ]
  },
  {
   "cell_type": "code",
   "execution_count": 15,
   "metadata": {
    "scrolled": true
   },
   "outputs": [
    {
     "data": {
      "text/plain": [
       "<matplotlib.axes._subplots.AxesSubplot at 0x24f91b8e888>"
      ]
     },
     "execution_count": 15,
     "metadata": {},
     "output_type": "execute_result"
    },
    {
     "data": {
      "image/png": "[encoded data removed]",
      "text/plain": [
       "<Figure size 1440x576 with 1 Axes>"
      ]
     },
     "metadata": {
      "needs_background": "light"
     },
     "output_type": "display_data"
    }
   ],
   "source": [
    "top_10_county_df.plot.bar(figsize=(20,8),y=['Queens_county','Kings_County','Nassau_County','Bronx_County','Westchester_County','Suffolk_County','New_York_County','Cook_County','Wayne_County','Bergen_County'])"
   ]
  },
  {
   "cell_type": "markdown",
   "metadata": {},
   "source": [
    "The 10 couties with most confirmed covid-19 cases are Queens County,Kings County,Nassau County,Bronx County,Westchester County,Suffolk County,New York County,Cook County,Wayne County,Bergen County\n",
    "\n",
    "The trend of number of cases per week in top 10 counties are quite similar and it shows that covid-19 cases were started to be reported in them around week 8 and has been exponentially increasing since then. We can see that no cases were reported in these counties for first 6-7 cases but as soon as it started in week 7 they became hotspots and counties with most cases in week 11\n",
    "\n",
    "We can also see that number of confirmed cases in top 2 counties (Queens and Kings) are alomost three times more that that of last 2 counites in top 10 (Bergen and Wayne)\n"
   ]
  },
  {
   "cell_type": "markdown",
   "metadata": {},
   "source": [
    "## Question 6\n",
    "\n",
    "We find the totoal number of confirmed cases in each couty from the number of cases in each county on last day of data set.\n",
    "We remove the state wide unallocated data for that state as it is incosistent with somtimes decreasing number of cases from one day to another\n",
    "Merged population data with confirmed cases data and found cases per population in each county"
   ]
  },
  {
   "cell_type": "code",
   "execution_count": 16,
   "metadata": {},
   "outputs": [
    {
     "data": {
      "text/html": [
       "<div>\n",
       "<style scoped>\n",
       "    .dataframe tbody tr th:only-of-type {\n",
       "        vertical-align: middle;\n",
       "    }\n",
       "\n",
       "    .dataframe tbody tr th {\n",
       "        vertical-align: top;\n",
       "    }\n",
       "\n",
       "    .dataframe thead th {\n",
       "        text-align: right;\n",
       "    }\n",
       "</style>\n",
       "<table border=\"1\" class=\"dataframe\">\n",
       "  <thead>\n",
       "    <tr style=\"text-align: right;\">\n",
       "      <th></th>\n",
       "      <th>County Name</th>\n",
       "      <th>cases_per_population</th>\n",
       "    </tr>\n",
       "  </thead>\n",
       "  <tbody>\n",
       "    <tr>\n",
       "      <td>0</td>\n",
       "      <td>Autauga County</td>\n",
       "      <td>0.000215</td>\n",
       "    </tr>\n",
       "    <tr>\n",
       "      <td>1</td>\n",
       "      <td>Baldwin County</td>\n",
       "      <td>0.000170</td>\n",
       "    </tr>\n",
       "    <tr>\n",
       "      <td>2</td>\n",
       "      <td>Barbour County</td>\n",
       "      <td>0.000122</td>\n",
       "    </tr>\n",
       "    <tr>\n",
       "      <td>3</td>\n",
       "      <td>Bibb County</td>\n",
       "      <td>0.000313</td>\n",
       "    </tr>\n",
       "    <tr>\n",
       "      <td>4</td>\n",
       "      <td>Blount County</td>\n",
       "      <td>0.000173</td>\n",
       "    </tr>\n",
       "    <tr>\n",
       "      <td>...</td>\n",
       "      <td>...</td>\n",
       "      <td>...</td>\n",
       "    </tr>\n",
       "    <tr>\n",
       "      <td>2456</td>\n",
       "      <td>Sublette County</td>\n",
       "      <td>0.000102</td>\n",
       "    </tr>\n",
       "    <tr>\n",
       "      <td>2457</td>\n",
       "      <td>Sweetwater County</td>\n",
       "      <td>0.000118</td>\n",
       "    </tr>\n",
       "    <tr>\n",
       "      <td>2458</td>\n",
       "      <td>Teton County</td>\n",
       "      <td>0.001705</td>\n",
       "    </tr>\n",
       "    <tr>\n",
       "      <td>2459</td>\n",
       "      <td>Uinta County</td>\n",
       "      <td>0.000148</td>\n",
       "    </tr>\n",
       "    <tr>\n",
       "      <td>2460</td>\n",
       "      <td>Washakie County</td>\n",
       "      <td>0.000512</td>\n",
       "    </tr>\n",
       "  </tbody>\n",
       "</table>\n",
       "<p>2461 rows × 2 columns</p>\n",
       "</div>"
      ],
      "text/plain": [
       "            County Name  cases_per_population\n",
       "0        Autauga County              0.000215\n",
       "1        Baldwin County              0.000170\n",
       "2        Barbour County              0.000122\n",
       "3           Bibb County              0.000313\n",
       "4         Blount County              0.000173\n",
       "...                 ...                   ...\n",
       "2456    Sublette County              0.000102\n",
       "2457  Sweetwater County              0.000118\n",
       "2458       Teton County              0.001705\n",
       "2459       Uinta County              0.000148\n",
       "2460    Washakie County              0.000512\n",
       "\n",
       "[2461 rows x 2 columns]"
      ]
     },
     "execution_count": 16,
     "metadata": {},
     "output_type": "execute_result"
    }
   ],
   "source": [
    "county_population = county_population[county_population.population > 0 ]\n",
    "final_cases_count = confirmed_cases_df.iloc[:,np.r_[0,1,-1]]\n",
    "final_cases_count = final_cases_count[final_cases_count.iloc[:,-1] >0 ]\n",
    "final_cases_count = final_cases_count[final_cases_count['County Name'] != 'Statewide Unallocated']\n",
    "county_cases_per_population = pd.merge(final_cases_count, \n",
    "                            county_population[['countyFIPS','population']],\n",
    "                            on ='countyFIPS')\n",
    "county_cases_per_population['cases_per_population'] = county_cases_per_population.iloc[:,-2]/county_cases_per_population.population\n",
    "county_cases_per_population[['County Name','cases_per_population']]"
   ]
  },
  {
   "cell_type": "code",
   "execution_count": 17,
   "metadata": {},
   "outputs": [
    {
     "data": {
      "text/html": [
       "<div>\n",
       "<style scoped>\n",
       "    .dataframe tbody tr th:only-of-type {\n",
       "        vertical-align: middle;\n",
       "    }\n",
       "\n",
       "    .dataframe tbody tr th {\n",
       "        vertical-align: top;\n",
       "    }\n",
       "\n",
       "    .dataframe thead th {\n",
       "        text-align: right;\n",
       "    }\n",
       "</style>\n",
       "<table border=\"1\" class=\"dataframe\">\n",
       "  <thead>\n",
       "    <tr style=\"text-align: right;\">\n",
       "      <th></th>\n",
       "      <th>County Name</th>\n",
       "      <th>cases_per_population</th>\n",
       "    </tr>\n",
       "  </thead>\n",
       "  <tbody>\n",
       "    <tr>\n",
       "      <td>502</td>\n",
       "      <td>Blaine County</td>\n",
       "      <td>0.018375</td>\n",
       "    </tr>\n",
       "    <tr>\n",
       "      <td>1474</td>\n",
       "      <td>Rockland County</td>\n",
       "      <td>0.017505</td>\n",
       "    </tr>\n",
       "    <tr>\n",
       "      <td>1490</td>\n",
       "      <td>Westchester County</td>\n",
       "      <td>0.014774</td>\n",
       "    </tr>\n",
       "    <tr>\n",
       "      <td>937</td>\n",
       "      <td>Orleans Parish</td>\n",
       "      <td>0.011701</td>\n",
       "    </tr>\n",
       "    <tr>\n",
       "      <td>1460</td>\n",
       "      <td>Nassau County</td>\n",
       "      <td>0.011508</td>\n",
       "    </tr>\n",
       "    <tr>\n",
       "      <td>1471</td>\n",
       "      <td>Queens County</td>\n",
       "      <td>0.010264</td>\n",
       "    </tr>\n",
       "    <tr>\n",
       "      <td>1433</td>\n",
       "      <td>Bronx County</td>\n",
       "      <td>0.010102</td>\n",
       "    </tr>\n",
       "    <tr>\n",
       "      <td>1473</td>\n",
       "      <td>Richmond County</td>\n",
       "      <td>0.009617</td>\n",
       "    </tr>\n",
       "    <tr>\n",
       "      <td>1482</td>\n",
       "      <td>Suffolk County</td>\n",
       "      <td>0.009134</td>\n",
       "    </tr>\n",
       "    <tr>\n",
       "      <td>1466</td>\n",
       "      <td>Orange County</td>\n",
       "      <td>0.008825</td>\n",
       "    </tr>\n",
       "  </tbody>\n",
       "</table>\n",
       "</div>"
      ],
      "text/plain": [
       "             County Name  cases_per_population\n",
       "502        Blaine County              0.018375\n",
       "1474     Rockland County              0.017505\n",
       "1490  Westchester County              0.014774\n",
       "937       Orleans Parish              0.011701\n",
       "1460       Nassau County              0.011508\n",
       "1471       Queens County              0.010264\n",
       "1433        Bronx County              0.010102\n",
       "1473     Richmond County              0.009617\n",
       "1482      Suffolk County              0.009134\n",
       "1466       Orange County              0.008825"
      ]
     },
     "execution_count": 17,
     "metadata": {},
     "output_type": "execute_result"
    }
   ],
   "source": [
    "top_10_county = county_cases_per_population.sort_values('cases_per_population', ascending = False).head(10)\n",
    "top_10_county[['County Name','cases_per_population']]"
   ]
  },
  {
   "cell_type": "code",
   "execution_count": 18,
   "metadata": {
    "scrolled": true
   },
   "outputs": [
    {
     "data": {
      "text/plain": [
       "<matplotlib.axes._subplots.AxesSubplot at 0x24f91d3fd08>"
      ]
     },
     "execution_count": 18,
     "metadata": {},
     "output_type": "execute_result"
    },
    {
     "data": {
      "image/png": "[encoded data removed]",
      "text/plain": [
       "<Figure size 432x288 with 1 Axes>"
      ]
     },
     "metadata": {
      "needs_background": "light"
     },
     "output_type": "display_data"
    }
   ],
   "source": [
    "top_10_county['cases_per_population'] = top_10_county['cases_per_population']*100000\n",
    "top_10_county.plot.bar(x = 'County Name' , y = 'cases_per_population')"
   ]
  },
  {
   "cell_type": "markdown",
   "metadata": {},
   "source": [
    "We can see above the 10 counties with most cases per 100,000 population.\n",
    "Blaine county has highest with more than 1800 cases per 100,000 population"
   ]
  },
  {
   "cell_type": "code",
   "execution_count": 19,
   "metadata": {},
   "outputs": [
    {
     "data": {
      "text/html": [
       "<div>\n",
       "<style scoped>\n",
       "    .dataframe tbody tr th:only-of-type {\n",
       "        vertical-align: middle;\n",
       "    }\n",
       "\n",
       "    .dataframe tbody tr th {\n",
       "        vertical-align: top;\n",
       "    }\n",
       "\n",
       "    .dataframe thead th {\n",
       "        text-align: right;\n",
       "    }\n",
       "</style>\n",
       "<table border=\"1\" class=\"dataframe\">\n",
       "  <thead>\n",
       "    <tr style=\"text-align: right;\">\n",
       "      <th></th>\n",
       "      <th>County Name</th>\n",
       "      <th>cases_per_population</th>\n",
       "    </tr>\n",
       "  </thead>\n",
       "  <tbody>\n",
       "    <tr>\n",
       "      <td>2076</td>\n",
       "      <td>Henderson County</td>\n",
       "      <td>0.000012</td>\n",
       "    </tr>\n",
       "    <tr>\n",
       "      <td>1674</td>\n",
       "      <td>Scioto County</td>\n",
       "      <td>0.000013</td>\n",
       "    </tr>\n",
       "    <tr>\n",
       "      <td>966</td>\n",
       "      <td>Aroostook County</td>\n",
       "      <td>0.000015</td>\n",
       "    </tr>\n",
       "    <tr>\n",
       "      <td>205</td>\n",
       "      <td>Tehama County</td>\n",
       "      <td>0.000015</td>\n",
       "    </tr>\n",
       "    <tr>\n",
       "      <td>862</td>\n",
       "      <td>Laurel County</td>\n",
       "      <td>0.000016</td>\n",
       "    </tr>\n",
       "    <tr>\n",
       "      <td>887</td>\n",
       "      <td>Pike County</td>\n",
       "      <td>0.000017</td>\n",
       "    </tr>\n",
       "    <tr>\n",
       "      <td>2010</td>\n",
       "      <td>Anderson County</td>\n",
       "      <td>0.000017</td>\n",
       "    </tr>\n",
       "    <tr>\n",
       "      <td>852</td>\n",
       "      <td>Hardin County</td>\n",
       "      <td>0.000018</td>\n",
       "    </tr>\n",
       "    <tr>\n",
       "      <td>207</td>\n",
       "      <td>Tuolumne County</td>\n",
       "      <td>0.000018</td>\n",
       "    </tr>\n",
       "    <tr>\n",
       "      <td>1716</td>\n",
       "      <td>Le Flore County</td>\n",
       "      <td>0.000020</td>\n",
       "    </tr>\n",
       "  </tbody>\n",
       "</table>\n",
       "</div>"
      ],
      "text/plain": [
       "           County Name  cases_per_population\n",
       "2076  Henderson County              0.000012\n",
       "1674     Scioto County              0.000013\n",
       "966   Aroostook County              0.000015\n",
       "205      Tehama County              0.000015\n",
       "862      Laurel County              0.000016\n",
       "887        Pike County              0.000017\n",
       "2010   Anderson County              0.000017\n",
       "852      Hardin County              0.000018\n",
       "207    Tuolumne County              0.000018\n",
       "1716   Le Flore County              0.000020"
      ]
     },
     "execution_count": 19,
     "metadata": {},
     "output_type": "execute_result"
    }
   ],
   "source": [
    "least_10_county = county_cases_per_population.sort_values('cases_per_population', ascending = True).head(10)\n",
    "least_10_county[['County Name','cases_per_population']]"
   ]
  },
  {
   "cell_type": "code",
   "execution_count": 20,
   "metadata": {
    "scrolled": true
   },
   "outputs": [
    {
     "data": {
      "text/plain": [
       "<matplotlib.axes._subplots.AxesSubplot at 0x24f9226d688>"
      ]
     },
     "execution_count": 20,
     "metadata": {},
     "output_type": "execute_result"
    },
    {
     "data": {
      "image/png": "[encoded data removed]",
      "text/plain": [
       "<Figure size 432x288 with 1 Axes>"
      ]
     },
     "metadata": {
      "needs_background": "light"
     },
     "output_type": "display_data"
    }
   ],
   "source": [
    "least_10_county['cases_per_population'] = least_10_county['cases_per_population']*100000\n",
    "least_10_county.plot.bar(x = 'County Name' , y = 'cases_per_population')"
   ]
  },
  {
   "cell_type": "markdown",
   "metadata": {},
   "source": [
    "We can see above the 10 counties with least cases per 100,000 population.\n",
    "Henderson county has least with less than 1.2 cases per 100,000 population"
   ]
  },
  {
   "cell_type": "markdown",
   "metadata": {},
   "source": [
    "## Question 7\n",
    "Compute the death rate (deaths/ known cases) in each county that have both deaths and\n",
    "known cases. Compute the mean and standard deviation of the results?"
   ]
  },
  {
   "cell_type": "code",
   "execution_count": 21,
   "metadata": {},
   "outputs": [
    {
     "data": {
      "text/html": [
       "<div>\n",
       "<style scoped>\n",
       "    .dataframe tbody tr th:only-of-type {\n",
       "        vertical-align: middle;\n",
       "    }\n",
       "\n",
       "    .dataframe tbody tr th {\n",
       "        vertical-align: top;\n",
       "    }\n",
       "\n",
       "    .dataframe thead th {\n",
       "        text-align: right;\n",
       "    }\n",
       "</style>\n",
       "<table border=\"1\" class=\"dataframe\">\n",
       "  <thead>\n",
       "    <tr style=\"text-align: right;\">\n",
       "      <th></th>\n",
       "      <th>County Name</th>\n",
       "      <th>Death_Rate</th>\n",
       "    </tr>\n",
       "  </thead>\n",
       "  <tbody>\n",
       "    <tr>\n",
       "      <td>0</td>\n",
       "      <td>Chambers County</td>\n",
       "      <td>0.052083</td>\n",
       "    </tr>\n",
       "    <tr>\n",
       "      <td>1</td>\n",
       "      <td>Etowah County</td>\n",
       "      <td>0.047619</td>\n",
       "    </tr>\n",
       "    <tr>\n",
       "      <td>2</td>\n",
       "      <td>Jackson County</td>\n",
       "      <td>0.058824</td>\n",
       "    </tr>\n",
       "    <tr>\n",
       "      <td>3</td>\n",
       "      <td>Jefferson County</td>\n",
       "      <td>0.011416</td>\n",
       "    </tr>\n",
       "    <tr>\n",
       "      <td>4</td>\n",
       "      <td>Lauderdale County</td>\n",
       "      <td>0.062500</td>\n",
       "    </tr>\n",
       "    <tr>\n",
       "      <td>...</td>\n",
       "      <td>...</td>\n",
       "      <td>...</td>\n",
       "    </tr>\n",
       "    <tr>\n",
       "      <td>760</td>\n",
       "      <td>Sheboygan County</td>\n",
       "      <td>0.047619</td>\n",
       "    </tr>\n",
       "    <tr>\n",
       "      <td>761</td>\n",
       "      <td>Washington County</td>\n",
       "      <td>0.052632</td>\n",
       "    </tr>\n",
       "    <tr>\n",
       "      <td>762</td>\n",
       "      <td>Waukesha County</td>\n",
       "      <td>0.025000</td>\n",
       "    </tr>\n",
       "    <tr>\n",
       "      <td>763</td>\n",
       "      <td>Waupaca County</td>\n",
       "      <td>0.500000</td>\n",
       "    </tr>\n",
       "    <tr>\n",
       "      <td>764</td>\n",
       "      <td>Winnebago County</td>\n",
       "      <td>0.041667</td>\n",
       "    </tr>\n",
       "  </tbody>\n",
       "</table>\n",
       "<p>765 rows × 2 columns</p>\n",
       "</div>"
      ],
      "text/plain": [
       "           County Name  Death_Rate\n",
       "0      Chambers County    0.052083\n",
       "1        Etowah County    0.047619\n",
       "2       Jackson County    0.058824\n",
       "3     Jefferson County    0.011416\n",
       "4    Lauderdale County    0.062500\n",
       "..                 ...         ...\n",
       "760   Sheboygan County    0.047619\n",
       "761  Washington County    0.052632\n",
       "762    Waukesha County    0.025000\n",
       "763     Waupaca County    0.500000\n",
       "764   Winnebago County    0.041667\n",
       "\n",
       "[765 rows x 2 columns]"
      ]
     },
     "execution_count": 21,
     "metadata": {},
     "output_type": "execute_result"
    }
   ],
   "source": [
    "confirmed_deaths = confirmed_deaths_df.iloc[:,np.r_[0,1,-1]]\n",
    "confirmed_deaths = confirmed_deaths[confirmed_deaths.iloc[:,-1] > 0 ]\n",
    "confirmed_deaths.rename(columns={'4/6/2020': 'Total_Deaths'}, inplace=True)\n",
    "county_deaths_per_cases = pd.merge(county_cases_per_population,confirmed_deaths[['countyFIPS','Total_Deaths']],on ='countyFIPS')\n",
    "county_deaths_per_cases.rename(columns={'4/6/2020': 'Cases'}, inplace=True)\n",
    "county_deaths_per_cases['Death_Rate'] = county_deaths_per_cases['Total_Deaths']/county_deaths_per_cases['Cases']\n",
    "county_deaths_per_cases[['County Name','Death_Rate']]"
   ]
  },
  {
   "cell_type": "code",
   "execution_count": 22,
   "metadata": {},
   "outputs": [
    {
     "name": "stdout",
     "output_type": "stream",
     "text": [
      "Mean Death Rate : 0.07978306922949359\n",
      "Mean Standard Deviation for Death Rate : 0.1331546845184295\n"
     ]
    }
   ],
   "source": [
    "print(\"Mean Death Rate : \" + str(county_deaths_per_cases.Death_Rate.mean())) \n",
    "print(\"Mean Standard Deviation for Death Rate : \" + str(county_deaths_per_cases.Death_Rate.std()))"
   ]
  },
  {
   "cell_type": "markdown",
   "metadata": {},
   "source": [
    "We can see that mean for death rate in USA counties is 0.079 and it is deviating by 0.13 throughout the population"
   ]
  },
  {
   "cell_type": "markdown",
   "metadata": {},
   "source": [
    "## Question 8\n",
    "Produce a violin plot of the death rates found in #7?"
   ]
  },
  {
   "cell_type": "code",
   "execution_count": 23,
   "metadata": {
    "scrolled": true
   },
   "outputs": [
    {
     "data": {
      "image/png": "[encoded data removed]",
      "text/plain": [
       "<Figure size 432x288 with 1 Axes>"
      ]
     },
     "metadata": {},
     "output_type": "display_data"
    }
   ],
   "source": [
    "sns.set(style=\"whitegrid\")\n",
    "ax = sns.violinplot(x=county_deaths_per_cases['Death_Rate'])"
   ]
  },
  {
   "cell_type": "markdown",
   "metadata": {},
   "source": [
    "The violin plot shows that death rate in most of the counties is less than 0.2"
   ]
  },
  {
   "cell_type": "markdown",
   "metadata": {},
   "source": [
    "## Question 9\n",
    "There is some hope that covid-19 may have peaked in NYC (counties Bronx, Kings, New\n",
    "York, Queens and Richmond). Is there any evidence of that in the data?"
   ]
  },
  {
   "cell_type": "code",
   "execution_count": 24,
   "metadata": {},
   "outputs": [
    {
     "data": {
      "text/plain": [
       "2020-01-23       0.0\n",
       "2020-01-24       0.0\n",
       "2020-01-25       0.0\n",
       "2020-01-26       0.0\n",
       "2020-01-27       0.0\n",
       "               ...  \n",
       "2020-04-02    4000.0\n",
       "2020-04-03    8143.0\n",
       "2020-04-04    5491.0\n",
       "2020-04-05    4245.0\n",
       "2020-04-06    4630.0\n",
       "Length: 75, dtype: float64"
      ]
     },
     "execution_count": 24,
     "metadata": {},
     "output_type": "execute_result"
    }
   ],
   "source": [
    "nyc_counties_df = confirmed_cases_df[confirmed_cases_df['State'] == 'NY']\n",
    "nyc_counties_df =  nyc_counties_df[(nyc_counties_df['County Name'] == 'Bronx County') |\n",
    "          (nyc_counties_df['County Name'] == 'Kings County') | \n",
    "          (nyc_counties_df['County Name'] == 'New York County') | \n",
    "          (nyc_counties_df['County Name']== 'Queens County') | \n",
    "          (nyc_counties_df['County Name'] == 'Richmond County')]\n",
    "#nyc_counties_df\n",
    "remove_headers = ['countyFIPS','County Name','State','stateFIPS']\n",
    "all_headers = list(confirmed_cases_df.columns)\n",
    "final_headers = list(set(all_headers) - set(remove_headers))\n",
    "nyc_counties_df = nyc_counties_df[final_headers].sum(axis = 0, skipna = True)\n",
    "# nyc_counties_df\n",
    "nyc_counties_df.index = pd.to_datetime(nyc_counties_df.index)\n",
    "nyc_counties_df = nyc_counties_df.sort_index(ascending = True)\n",
    "nyc_counties_df = nyc_counties_df.diff()\n",
    "nyc_counties_df = nyc_counties_df.dropna()\n",
    "nyc_counties_df"
   ]
  },
  {
   "cell_type": "code",
   "execution_count": 25,
   "metadata": {
    "scrolled": true
   },
   "outputs": [
    {
     "data": {
      "text/plain": [
       "<matplotlib.axes._subplots.AxesSubplot at 0x24f93346848>"
      ]
     },
     "execution_count": 25,
     "metadata": {},
     "output_type": "execute_result"
    },
    {
     "data": {
      "image/png": "[encoded data removed]",
      "text/plain": [
       "<Figure size 432x288 with 1 Axes>"
      ]
     },
     "metadata": {},
     "output_type": "display_data"
    }
   ],
   "source": [
    "nyc_counties_df.plot.line()"
   ]
  },
  {
   "cell_type": "markdown",
   "metadata": {},
   "source": [
    "The results for number of new cases in all of NYC counties show that it had a peak of 8143 cases on 3rd April and the trend for next three days is around half of that, so there is evidence that covid-19 has peaked in NYC and is on a downward trend"
   ]
  },
  {
   "cell_type": "markdown",
   "metadata": {},
   "source": [
    "## Question 10\n",
    "Seattle (King county in Washington) also hopes that they have peaked. Is there any evidence of that in the data?"
   ]
  },
  {
   "cell_type": "code",
   "execution_count": 26,
   "metadata": {},
   "outputs": [
    {
     "data": {
      "text/plain": [
       "2020-01-23      0.0\n",
       "2020-01-24      0.0\n",
       "2020-01-25      0.0\n",
       "2020-01-26      0.0\n",
       "2020-01-27      0.0\n",
       "              ...  \n",
       "2020-04-02    160.0\n",
       "2020-04-03     55.0\n",
       "2020-04-04    154.0\n",
       "2020-04-05    293.0\n",
       "2020-04-06    137.0\n",
       "Length: 75, dtype: float64"
      ]
     },
     "execution_count": 26,
     "metadata": {},
     "output_type": "execute_result"
    }
   ],
   "source": [
    "seatle_df = confirmed_cases_df[confirmed_cases_df['State'] == 'WA']\n",
    "seatle_df =  seatle_df[(seatle_df['County Name'] == 'King County')]\n",
    "seatle_cases = seatle_df[final_headers].sum(axis = 0, skipna = True)\n",
    "seatle_cases.index = pd.to_datetime(seatle_cases.index)\n",
    "seatle_cases = seatle_cases.sort_index(ascending = True)\n",
    "seatle_cases = seatle_cases.diff()\n",
    "seatle_cases = seatle_cases.dropna()\n",
    "seatle_cases"
   ]
  },
  {
   "cell_type": "code",
   "execution_count": 27,
   "metadata": {
    "scrolled": true
   },
   "outputs": [
    {
     "data": {
      "text/plain": [
       "<matplotlib.axes._subplots.AxesSubplot at 0x24f9187e788>"
      ]
     },
     "execution_count": 27,
     "metadata": {},
     "output_type": "execute_result"
    },
    {
     "data": {
      "image/png": "[encoded data removed]",
      "text/plain": [
       "<Figure size 432x288 with 1 Axes>"
      ]
     },
     "metadata": {},
     "output_type": "display_data"
    }
   ],
   "source": [
    "seatle_cases.plot.line()"
   ]
  },
  {
   "cell_type": "markdown",
   "metadata": {},
   "source": [
    "The results for number of new cases in Seatle show that it had most number of cases reported on 5th april but there is only one day of data after that with lower cases and the plot shows ups and downs for last 20 days , so there is no evidence for a peak of covid-19 in seatle county data "
   ]
  },
  {
   "cell_type": "markdown",
   "metadata": {},
   "source": [
    "# Part 2 : Names \n",
    "\n",
    "## Question 1\n",
    "\n",
    "Combine the files into one dataframe that contains year, name, sex and number of people\n",
    "born that year. Create a training set and a test set from this dataframe?\n",
    "\n",
    "Note : I have run this code on windows machine and to get the year value for data frame I used split function on the Text file names. For Windows machine I used '//' to split, for a Linux(Mac) machine it might be needed to use '/'. I have put it as a comment on the next like\n",
    "For Mac machine pls comment the split with '//' and use commented line of code with '/'\n"
   ]
  },
  {
   "cell_type": "code",
   "execution_count": 28,
   "metadata": {},
   "outputs": [],
   "source": [
    "text_file_names = glob.glob(name_text_file_path)\n",
    "column_names = [\"Name\", \"Sex\",\"Count\",\"Year\"]\n",
    "names_df = pd.DataFrame(columns = column_names)\n",
    "for name in text_file_names:\n",
    "    year = name.split('\\\\')[1][3:7]\n",
    "    #year = name.split('/')[1][3:7]\n",
    "    data = pd.read_csv(name, sep=\",\", header=None)\n",
    "    data.columns = [\"Name\", \"Sex\",\"Count\"]\n",
    "    data[\"Year\"] = year\n",
    "    names_df = names_df.append(data)\n"
   ]
  },
  {
   "cell_type": "code",
   "execution_count": 29,
   "metadata": {},
   "outputs": [
    {
     "name": "stdout",
     "output_type": "stream",
     "text": [
      "(1957046, 4)\n"
     ]
    },
    {
     "data": {
      "text/html": [
       "<div>\n",
       "<style scoped>\n",
       "    .dataframe tbody tr th:only-of-type {\n",
       "        vertical-align: middle;\n",
       "    }\n",
       "\n",
       "    .dataframe tbody tr th {\n",
       "        vertical-align: top;\n",
       "    }\n",
       "\n",
       "    .dataframe thead th {\n",
       "        text-align: right;\n",
       "    }\n",
       "</style>\n",
       "<table border=\"1\" class=\"dataframe\">\n",
       "  <thead>\n",
       "    <tr style=\"text-align: right;\">\n",
       "      <th></th>\n",
       "      <th>Name</th>\n",
       "      <th>Sex</th>\n",
       "      <th>Count</th>\n",
       "      <th>Year</th>\n",
       "    </tr>\n",
       "  </thead>\n",
       "  <tbody>\n",
       "    <tr>\n",
       "      <td>0</td>\n",
       "      <td>Mary</td>\n",
       "      <td>F</td>\n",
       "      <td>7065</td>\n",
       "      <td>1880</td>\n",
       "    </tr>\n",
       "    <tr>\n",
       "      <td>1341</td>\n",
       "      <td>Vern</td>\n",
       "      <td>M</td>\n",
       "      <td>19</td>\n",
       "      <td>1880</td>\n",
       "    </tr>\n",
       "    <tr>\n",
       "      <td>1340</td>\n",
       "      <td>Stewart</td>\n",
       "      <td>M</td>\n",
       "      <td>19</td>\n",
       "      <td>1880</td>\n",
       "    </tr>\n",
       "    <tr>\n",
       "      <td>1339</td>\n",
       "      <td>Randolph</td>\n",
       "      <td>M</td>\n",
       "      <td>19</td>\n",
       "      <td>1880</td>\n",
       "    </tr>\n",
       "    <tr>\n",
       "      <td>1338</td>\n",
       "      <td>Lucien</td>\n",
       "      <td>M</td>\n",
       "      <td>19</td>\n",
       "      <td>1880</td>\n",
       "    </tr>\n",
       "  </tbody>\n",
       "</table>\n",
       "</div>"
      ],
      "text/plain": [
       "          Name Sex Count  Year\n",
       "0         Mary   F  7065  1880\n",
       "1341      Vern   M    19  1880\n",
       "1340   Stewart   M    19  1880\n",
       "1339  Randolph   M    19  1880\n",
       "1338    Lucien   M    19  1880"
      ]
     },
     "execution_count": 29,
     "metadata": {},
     "output_type": "execute_result"
    }
   ],
   "source": [
    "names_df.sort_values(by=['Year'], inplace=True, ascending=True)\n",
    "print(names_df.shape)\n",
    "names_df.head()"
   ]
  },
  {
   "cell_type": "code",
   "execution_count": 30,
   "metadata": {},
   "outputs": [
    {
     "data": {
      "text/plain": [
       "<matplotlib.axes._subplots.AxesSubplot at 0x24f932d3c08>"
      ]
     },
     "execution_count": 30,
     "metadata": {},
     "output_type": "execute_result"
    },
    {
     "data": {
      "image/png": "[encoded data removed]",
      "text/plain": [
       "<Figure size 432x288 with 1 Axes>"
      ]
     },
     "metadata": {},
     "output_type": "display_data"
    }
   ],
   "source": [
    "sns.countplot(names_df.Sex)"
   ]
  },
  {
   "cell_type": "markdown",
   "metadata": {},
   "source": [
    "We see that overall in that dataset count of Females names is higher than males\n",
    "Splitting the data set into train and test set and checking their shapes"
   ]
  },
  {
   "cell_type": "code",
   "execution_count": 31,
   "metadata": {},
   "outputs": [
    {
     "name": "stdout",
     "output_type": "stream",
     "text": [
      "(1565636, 4)\n",
      "(391410, 4)\n"
     ]
    }
   ],
   "source": [
    "train_set, test_set = train_test_split(names_df,test_size=0.2)\n",
    "print(train_set.shape)\n",
    "print(test_set.shape)"
   ]
  },
  {
   "cell_type": "code",
   "execution_count": 32,
   "metadata": {},
   "outputs": [
    {
     "data": {
      "text/html": [
       "<div>\n",
       "<style scoped>\n",
       "    .dataframe tbody tr th:only-of-type {\n",
       "        vertical-align: middle;\n",
       "    }\n",
       "\n",
       "    .dataframe tbody tr th {\n",
       "        vertical-align: top;\n",
       "    }\n",
       "\n",
       "    .dataframe thead th {\n",
       "        text-align: right;\n",
       "    }\n",
       "</style>\n",
       "<table border=\"1\" class=\"dataframe\">\n",
       "  <thead>\n",
       "    <tr style=\"text-align: right;\">\n",
       "      <th></th>\n",
       "      <th>Name</th>\n",
       "      <th>Sex</th>\n",
       "      <th>Count</th>\n",
       "      <th>Year</th>\n",
       "    </tr>\n",
       "  </thead>\n",
       "  <tbody>\n",
       "    <tr>\n",
       "      <td>616</td>\n",
       "      <td>Latricia</td>\n",
       "      <td>F</td>\n",
       "      <td>253</td>\n",
       "      <td>1974</td>\n",
       "    </tr>\n",
       "    <tr>\n",
       "      <td>8084</td>\n",
       "      <td>Melburn</td>\n",
       "      <td>M</td>\n",
       "      <td>12</td>\n",
       "      <td>1927</td>\n",
       "    </tr>\n",
       "    <tr>\n",
       "      <td>2573</td>\n",
       "      <td>Brice</td>\n",
       "      <td>M</td>\n",
       "      <td>7</td>\n",
       "      <td>1894</td>\n",
       "    </tr>\n",
       "    <tr>\n",
       "      <td>16541</td>\n",
       "      <td>Nattalee</td>\n",
       "      <td>F</td>\n",
       "      <td>6</td>\n",
       "      <td>2006</td>\n",
       "    </tr>\n",
       "    <tr>\n",
       "      <td>24557</td>\n",
       "      <td>In</td>\n",
       "      <td>M</td>\n",
       "      <td>5</td>\n",
       "      <td>1992</td>\n",
       "    </tr>\n",
       "  </tbody>\n",
       "</table>\n",
       "</div>"
      ],
      "text/plain": [
       "           Name Sex Count  Year\n",
       "616    Latricia   F   253  1974\n",
       "8084    Melburn   M    12  1927\n",
       "2573      Brice   M     7  1894\n",
       "16541  Nattalee   F     6  2006\n",
       "24557        In   M     5  1992"
      ]
     },
     "execution_count": 32,
     "metadata": {},
     "output_type": "execute_result"
    }
   ],
   "source": [
    "train_set.head()"
   ]
  },
  {
   "cell_type": "code",
   "execution_count": 33,
   "metadata": {},
   "outputs": [
    {
     "data": {
      "text/html": [
       "<div>\n",
       "<style scoped>\n",
       "    .dataframe tbody tr th:only-of-type {\n",
       "        vertical-align: middle;\n",
       "    }\n",
       "\n",
       "    .dataframe tbody tr th {\n",
       "        vertical-align: top;\n",
       "    }\n",
       "\n",
       "    .dataframe thead th {\n",
       "        text-align: right;\n",
       "    }\n",
       "</style>\n",
       "<table border=\"1\" class=\"dataframe\">\n",
       "  <thead>\n",
       "    <tr style=\"text-align: right;\">\n",
       "      <th></th>\n",
       "      <th>Name</th>\n",
       "      <th>Sex</th>\n",
       "      <th>Count</th>\n",
       "      <th>Year</th>\n",
       "    </tr>\n",
       "  </thead>\n",
       "  <tbody>\n",
       "    <tr>\n",
       "      <td>14514</td>\n",
       "      <td>Sol</td>\n",
       "      <td>M</td>\n",
       "      <td>22</td>\n",
       "      <td>1980</td>\n",
       "    </tr>\n",
       "    <tr>\n",
       "      <td>21143</td>\n",
       "      <td>Nhan</td>\n",
       "      <td>M</td>\n",
       "      <td>10</td>\n",
       "      <td>1992</td>\n",
       "    </tr>\n",
       "    <tr>\n",
       "      <td>11412</td>\n",
       "      <td>Jacqui</td>\n",
       "      <td>F</td>\n",
       "      <td>8</td>\n",
       "      <td>2001</td>\n",
       "    </tr>\n",
       "    <tr>\n",
       "      <td>5595</td>\n",
       "      <td>Wynne</td>\n",
       "      <td>F</td>\n",
       "      <td>5</td>\n",
       "      <td>1927</td>\n",
       "    </tr>\n",
       "    <tr>\n",
       "      <td>11389</td>\n",
       "      <td>Cory</td>\n",
       "      <td>M</td>\n",
       "      <td>4258</td>\n",
       "      <td>1977</td>\n",
       "    </tr>\n",
       "  </tbody>\n",
       "</table>\n",
       "</div>"
      ],
      "text/plain": [
       "         Name Sex Count  Year\n",
       "14514     Sol   M    22  1980\n",
       "21143    Nhan   M    10  1992\n",
       "11412  Jacqui   F     8  2001\n",
       "5595    Wynne   F     5  1927\n",
       "11389    Cory   M  4258  1977"
      ]
     },
     "execution_count": 33,
     "metadata": {},
     "output_type": "execute_result"
    }
   ],
   "source": [
    "test_set.head()"
   ]
  },
  {
   "cell_type": "markdown",
   "metadata": {},
   "source": [
    "## Question 2 \n",
    "For the first model determine for each name which sex used the name most in the training\n",
    "data. How good is the model on the test set? How to measure good?\n",
    "\n",
    "\n",
    "Applying groupby on training set to find count of occurences of each name in the data set"
   ]
  },
  {
   "cell_type": "code",
   "execution_count": 34,
   "metadata": {},
   "outputs": [
    {
     "name": "stdout",
     "output_type": "stream",
     "text": [
      "(104010, 3)\n"
     ]
    },
    {
     "data": {
      "text/html": [
       "<div>\n",
       "<style scoped>\n",
       "    .dataframe tbody tr th:only-of-type {\n",
       "        vertical-align: middle;\n",
       "    }\n",
       "\n",
       "    .dataframe tbody tr th {\n",
       "        vertical-align: top;\n",
       "    }\n",
       "\n",
       "    .dataframe thead th {\n",
       "        text-align: right;\n",
       "    }\n",
       "</style>\n",
       "<table border=\"1\" class=\"dataframe\">\n",
       "  <thead>\n",
       "    <tr style=\"text-align: right;\">\n",
       "      <th></th>\n",
       "      <th>Name</th>\n",
       "      <th>Sex</th>\n",
       "      <th>Count</th>\n",
       "    </tr>\n",
       "  </thead>\n",
       "  <tbody>\n",
       "    <tr>\n",
       "      <td>0</td>\n",
       "      <td>Aaban</td>\n",
       "      <td>M</td>\n",
       "      <td>70</td>\n",
       "    </tr>\n",
       "    <tr>\n",
       "      <td>1</td>\n",
       "      <td>Aabha</td>\n",
       "      <td>F</td>\n",
       "      <td>28</td>\n",
       "    </tr>\n",
       "    <tr>\n",
       "      <td>2</td>\n",
       "      <td>Aabid</td>\n",
       "      <td>M</td>\n",
       "      <td>11</td>\n",
       "    </tr>\n",
       "    <tr>\n",
       "      <td>3</td>\n",
       "      <td>Aabidah</td>\n",
       "      <td>F</td>\n",
       "      <td>5</td>\n",
       "    </tr>\n",
       "    <tr>\n",
       "      <td>4</td>\n",
       "      <td>Aabir</td>\n",
       "      <td>M</td>\n",
       "      <td>10</td>\n",
       "    </tr>\n",
       "  </tbody>\n",
       "</table>\n",
       "</div>"
      ],
      "text/plain": [
       "      Name Sex  Count\n",
       "0    Aaban   M     70\n",
       "1    Aabha   F     28\n",
       "2    Aabid   M     11\n",
       "3  Aabidah   F      5\n",
       "4    Aabir   M     10"
      ]
     },
     "execution_count": 34,
     "metadata": {},
     "output_type": "execute_result"
    }
   ],
   "source": [
    "train_set_group = train_set.groupby(['Name', 'Sex'], as_index = False)['Count'].sum()\n",
    "print(train_set_group.shape)\n",
    "train_set_group.head()"
   ]
  },
  {
   "cell_type": "code",
   "execution_count": 35,
   "metadata": {},
   "outputs": [
    {
     "data": {
      "text/html": [
       "<div>\n",
       "<style scoped>\n",
       "    .dataframe tbody tr th:only-of-type {\n",
       "        vertical-align: middle;\n",
       "    }\n",
       "\n",
       "    .dataframe tbody tr th {\n",
       "        vertical-align: top;\n",
       "    }\n",
       "\n",
       "    .dataframe thead th {\n",
       "        text-align: right;\n",
       "    }\n",
       "</style>\n",
       "<table border=\"1\" class=\"dataframe\">\n",
       "  <thead>\n",
       "    <tr style=\"text-align: right;\">\n",
       "      <th></th>\n",
       "      <th>Name</th>\n",
       "      <th>Sex</th>\n",
       "      <th>Count</th>\n",
       "    </tr>\n",
       "  </thead>\n",
       "  <tbody>\n",
       "    <tr>\n",
       "      <td>82908</td>\n",
       "      <td>Sam</td>\n",
       "      <td>F</td>\n",
       "      <td>1151</td>\n",
       "    </tr>\n",
       "    <tr>\n",
       "      <td>82909</td>\n",
       "      <td>Sam</td>\n",
       "      <td>M</td>\n",
       "      <td>108261</td>\n",
       "    </tr>\n",
       "  </tbody>\n",
       "</table>\n",
       "</div>"
      ],
      "text/plain": [
       "      Name Sex   Count\n",
       "82908  Sam   F    1151\n",
       "82909  Sam   M  108261"
      ]
     },
     "execution_count": 35,
     "metadata": {},
     "output_type": "execute_result"
    }
   ],
   "source": [
    "train_set_group.loc[train_set_group['Name'] == \"Sam\"]"
   ]
  },
  {
   "cell_type": "markdown",
   "metadata": {},
   "source": [
    "Creating training set of names with number of times it was given to males and Females "
   ]
  },
  {
   "cell_type": "code",
   "execution_count": 36,
   "metadata": {},
   "outputs": [
    {
     "name": "stdout",
     "output_type": "stream",
     "text": [
      "(93767, 2)\n"
     ]
    },
    {
     "data": {
      "text/html": [
       "<div>\n",
       "<style scoped>\n",
       "    .dataframe tbody tr th:only-of-type {\n",
       "        vertical-align: middle;\n",
       "    }\n",
       "\n",
       "    .dataframe tbody tr th {\n",
       "        vertical-align: top;\n",
       "    }\n",
       "\n",
       "    .dataframe thead th {\n",
       "        text-align: right;\n",
       "    }\n",
       "</style>\n",
       "<table border=\"1\" class=\"dataframe\">\n",
       "  <thead>\n",
       "    <tr style=\"text-align: right;\">\n",
       "      <th>Sex</th>\n",
       "      <th>F</th>\n",
       "      <th>M</th>\n",
       "    </tr>\n",
       "    <tr>\n",
       "      <th>Name</th>\n",
       "      <th></th>\n",
       "      <th></th>\n",
       "    </tr>\n",
       "  </thead>\n",
       "  <tbody>\n",
       "    <tr>\n",
       "      <td>Aaban</td>\n",
       "      <td>NaN</td>\n",
       "      <td>70.0</td>\n",
       "    </tr>\n",
       "    <tr>\n",
       "      <td>Aabha</td>\n",
       "      <td>28.0</td>\n",
       "      <td>NaN</td>\n",
       "    </tr>\n",
       "    <tr>\n",
       "      <td>Aabid</td>\n",
       "      <td>NaN</td>\n",
       "      <td>11.0</td>\n",
       "    </tr>\n",
       "    <tr>\n",
       "      <td>Aabidah</td>\n",
       "      <td>5.0</td>\n",
       "      <td>NaN</td>\n",
       "    </tr>\n",
       "    <tr>\n",
       "      <td>Aabir</td>\n",
       "      <td>NaN</td>\n",
       "      <td>10.0</td>\n",
       "    </tr>\n",
       "  </tbody>\n",
       "</table>\n",
       "</div>"
      ],
      "text/plain": [
       "Sex         F     M\n",
       "Name               \n",
       "Aaban     NaN  70.0\n",
       "Aabha    28.0   NaN\n",
       "Aabid     NaN  11.0\n",
       "Aabidah   5.0   NaN\n",
       "Aabir     NaN  10.0"
      ]
     },
     "execution_count": 36,
     "metadata": {},
     "output_type": "execute_result"
    }
   ],
   "source": [
    "train_male_female_count = train_set_group.pivot('Name', 'Sex', 'Count')\n",
    "print(train_male_female_count.shape)\n",
    "train_male_female_count.head()"
   ]
  },
  {
   "cell_type": "code",
   "execution_count": 37,
   "metadata": {},
   "outputs": [
    {
     "data": {
      "text/html": [
       "<div>\n",
       "<style scoped>\n",
       "    .dataframe tbody tr th:only-of-type {\n",
       "        vertical-align: middle;\n",
       "    }\n",
       "\n",
       "    .dataframe tbody tr th {\n",
       "        vertical-align: top;\n",
       "    }\n",
       "\n",
       "    .dataframe thead th {\n",
       "        text-align: right;\n",
       "    }\n",
       "</style>\n",
       "<table border=\"1\" class=\"dataframe\">\n",
       "  <thead>\n",
       "    <tr style=\"text-align: right;\">\n",
       "      <th>Sex</th>\n",
       "      <th>F</th>\n",
       "      <th>M</th>\n",
       "    </tr>\n",
       "    <tr>\n",
       "      <th>Name</th>\n",
       "      <th></th>\n",
       "      <th></th>\n",
       "    </tr>\n",
       "  </thead>\n",
       "  <tbody>\n",
       "    <tr>\n",
       "      <td>Sam</td>\n",
       "      <td>1151.0</td>\n",
       "      <td>108261.0</td>\n",
       "    </tr>\n",
       "  </tbody>\n",
       "</table>\n",
       "</div>"
      ],
      "text/plain": [
       "Sex        F         M\n",
       "Name                  \n",
       "Sam   1151.0  108261.0"
      ]
     },
     "execution_count": 37,
     "metadata": {},
     "output_type": "execute_result"
    }
   ],
   "source": [
    "train_male_female_count.loc[train_male_female_count.index == \"Sam\"]"
   ]
  },
  {
   "cell_type": "code",
   "execution_count": 38,
   "metadata": {
    "scrolled": true
   },
   "outputs": [
    {
     "data": {
      "text/html": [
       "<div>\n",
       "<style scoped>\n",
       "    .dataframe tbody tr th:only-of-type {\n",
       "        vertical-align: middle;\n",
       "    }\n",
       "\n",
       "    .dataframe tbody tr th {\n",
       "        vertical-align: top;\n",
       "    }\n",
       "\n",
       "    .dataframe thead th {\n",
       "        text-align: right;\n",
       "    }\n",
       "</style>\n",
       "<table border=\"1\" class=\"dataframe\">\n",
       "  <thead>\n",
       "    <tr style=\"text-align: right;\">\n",
       "      <th>Sex</th>\n",
       "      <th>F</th>\n",
       "      <th>M</th>\n",
       "    </tr>\n",
       "    <tr>\n",
       "      <th>Name</th>\n",
       "      <th></th>\n",
       "      <th></th>\n",
       "    </tr>\n",
       "  </thead>\n",
       "  <tbody>\n",
       "    <tr>\n",
       "      <td>Ajae</td>\n",
       "      <td>11.0</td>\n",
       "      <td>11.0</td>\n",
       "    </tr>\n",
       "    <tr>\n",
       "      <td>Akie</td>\n",
       "      <td>5.0</td>\n",
       "      <td>5.0</td>\n",
       "    </tr>\n",
       "    <tr>\n",
       "      <td>Alique</td>\n",
       "      <td>5.0</td>\n",
       "      <td>5.0</td>\n",
       "    </tr>\n",
       "    <tr>\n",
       "      <td>Ammer</td>\n",
       "      <td>5.0</td>\n",
       "      <td>5.0</td>\n",
       "    </tr>\n",
       "    <tr>\n",
       "      <td>Anesti</td>\n",
       "      <td>5.0</td>\n",
       "      <td>5.0</td>\n",
       "    </tr>\n",
       "    <tr>\n",
       "      <td>...</td>\n",
       "      <td>...</td>\n",
       "      <td>...</td>\n",
       "    </tr>\n",
       "    <tr>\n",
       "      <td>Verlynn</td>\n",
       "      <td>5.0</td>\n",
       "      <td>5.0</td>\n",
       "    </tr>\n",
       "    <tr>\n",
       "      <td>Vero</td>\n",
       "      <td>5.0</td>\n",
       "      <td>5.0</td>\n",
       "    </tr>\n",
       "    <tr>\n",
       "      <td>Wilmeth</td>\n",
       "      <td>5.0</td>\n",
       "      <td>5.0</td>\n",
       "    </tr>\n",
       "    <tr>\n",
       "      <td>Yahav</td>\n",
       "      <td>5.0</td>\n",
       "      <td>5.0</td>\n",
       "    </tr>\n",
       "    <tr>\n",
       "      <td>Zihan</td>\n",
       "      <td>34.0</td>\n",
       "      <td>34.0</td>\n",
       "    </tr>\n",
       "  </tbody>\n",
       "</table>\n",
       "<p>105 rows × 2 columns</p>\n",
       "</div>"
      ],
      "text/plain": [
       "Sex         F     M\n",
       "Name               \n",
       "Ajae     11.0  11.0\n",
       "Akie      5.0   5.0\n",
       "Alique    5.0   5.0\n",
       "Ammer     5.0   5.0\n",
       "Anesti    5.0   5.0\n",
       "...       ...   ...\n",
       "Verlynn   5.0   5.0\n",
       "Vero      5.0   5.0\n",
       "Wilmeth   5.0   5.0\n",
       "Yahav     5.0   5.0\n",
       "Zihan    34.0  34.0\n",
       "\n",
       "[105 rows x 2 columns]"
      ]
     },
     "execution_count": 38,
     "metadata": {},
     "output_type": "execute_result"
    }
   ],
   "source": [
    "train_male_female_count.loc[(train_male_female_count.F == train_male_female_count.M)]"
   ]
  },
  {
   "cell_type": "markdown",
   "metadata": {},
   "source": [
    "## Model\n",
    "Model to predict gender based on count of number of times a name was given to male or female.\n",
    "Since the data set contains more females than males this model will default predicted gender to Female in case count is equal"
   ]
  },
  {
   "cell_type": "code",
   "execution_count": 39,
   "metadata": {},
   "outputs": [],
   "source": [
    "def predict_sex_model(train_male_female_count):\n",
    "    return np.where(train_male_female_count['M'] > train_male_female_count['F'], 'M', 'F')"
   ]
  },
  {
   "cell_type": "code",
   "execution_count": 40,
   "metadata": {},
   "outputs": [
    {
     "name": "stdout",
     "output_type": "stream",
     "text": [
      "(93767, 4)\n"
     ]
    },
    {
     "data": {
      "text/html": [
       "<div>\n",
       "<style scoped>\n",
       "    .dataframe tbody tr th:only-of-type {\n",
       "        vertical-align: middle;\n",
       "    }\n",
       "\n",
       "    .dataframe tbody tr th {\n",
       "        vertical-align: top;\n",
       "    }\n",
       "\n",
       "    .dataframe thead th {\n",
       "        text-align: right;\n",
       "    }\n",
       "</style>\n",
       "<table border=\"1\" class=\"dataframe\">\n",
       "  <thead>\n",
       "    <tr style=\"text-align: right;\">\n",
       "      <th>Sex</th>\n",
       "      <th>Name</th>\n",
       "      <th>F</th>\n",
       "      <th>M</th>\n",
       "      <th>Predicted Gender</th>\n",
       "    </tr>\n",
       "  </thead>\n",
       "  <tbody>\n",
       "    <tr>\n",
       "      <td>0</td>\n",
       "      <td>Aaban</td>\n",
       "      <td>0.0</td>\n",
       "      <td>70.0</td>\n",
       "      <td>M</td>\n",
       "    </tr>\n",
       "    <tr>\n",
       "      <td>1</td>\n",
       "      <td>Aabha</td>\n",
       "      <td>28.0</td>\n",
       "      <td>0.0</td>\n",
       "      <td>F</td>\n",
       "    </tr>\n",
       "    <tr>\n",
       "      <td>2</td>\n",
       "      <td>Aabid</td>\n",
       "      <td>0.0</td>\n",
       "      <td>11.0</td>\n",
       "      <td>M</td>\n",
       "    </tr>\n",
       "    <tr>\n",
       "      <td>3</td>\n",
       "      <td>Aabidah</td>\n",
       "      <td>5.0</td>\n",
       "      <td>0.0</td>\n",
       "      <td>F</td>\n",
       "    </tr>\n",
       "    <tr>\n",
       "      <td>4</td>\n",
       "      <td>Aabir</td>\n",
       "      <td>0.0</td>\n",
       "      <td>10.0</td>\n",
       "      <td>M</td>\n",
       "    </tr>\n",
       "  </tbody>\n",
       "</table>\n",
       "</div>"
      ],
      "text/plain": [
       "Sex     Name     F     M Predicted Gender\n",
       "0      Aaban   0.0  70.0                M\n",
       "1      Aabha  28.0   0.0                F\n",
       "2      Aabid   0.0  11.0                M\n",
       "3    Aabidah   5.0   0.0                F\n",
       "4      Aabir   0.0  10.0                M"
      ]
     },
     "execution_count": 40,
     "metadata": {},
     "output_type": "execute_result"
    }
   ],
   "source": [
    "train_male_female_count = train_male_female_count.fillna(0)\n",
    "train_male_female_count=train_male_female_count.reset_index()\n",
    "train_male_female_count['Predicted Gender'] = predict_sex_model(train_male_female_count)\n",
    "print(train_male_female_count.shape)\n",
    "train_male_female_count.head()"
   ]
  },
  {
   "cell_type": "code",
   "execution_count": 41,
   "metadata": {},
   "outputs": [
    {
     "data": {
      "text/html": [
       "<div>\n",
       "<style scoped>\n",
       "    .dataframe tbody tr th:only-of-type {\n",
       "        vertical-align: middle;\n",
       "    }\n",
       "\n",
       "    .dataframe tbody tr th {\n",
       "        vertical-align: top;\n",
       "    }\n",
       "\n",
       "    .dataframe thead th {\n",
       "        text-align: right;\n",
       "    }\n",
       "</style>\n",
       "<table border=\"1\" class=\"dataframe\">\n",
       "  <thead>\n",
       "    <tr style=\"text-align: right;\">\n",
       "      <th>Sex</th>\n",
       "      <th>Name</th>\n",
       "      <th>F</th>\n",
       "      <th>M</th>\n",
       "      <th>Predicted Gender</th>\n",
       "    </tr>\n",
       "  </thead>\n",
       "  <tbody>\n",
       "    <tr>\n",
       "      <td>74519</td>\n",
       "      <td>Sam</td>\n",
       "      <td>1151.0</td>\n",
       "      <td>108261.0</td>\n",
       "      <td>M</td>\n",
       "    </tr>\n",
       "  </tbody>\n",
       "</table>\n",
       "</div>"
      ],
      "text/plain": [
       "Sex   Name       F         M Predicted Gender\n",
       "74519  Sam  1151.0  108261.0                M"
      ]
     },
     "execution_count": 41,
     "metadata": {},
     "output_type": "execute_result"
    }
   ],
   "source": [
    "train_male_female_count.loc[train_male_female_count.Name == \"Sam\"]"
   ]
  },
  {
   "cell_type": "markdown",
   "metadata": {},
   "source": [
    "## Test \n",
    "Testing the Model using Test data"
   ]
  },
  {
   "cell_type": "code",
   "execution_count": 42,
   "metadata": {},
   "outputs": [
    {
     "name": "stdout",
     "output_type": "stream",
     "text": [
      "(391410, 2)\n"
     ]
    },
    {
     "data": {
      "text/html": [
       "<div>\n",
       "<style scoped>\n",
       "    .dataframe tbody tr th:only-of-type {\n",
       "        vertical-align: middle;\n",
       "    }\n",
       "\n",
       "    .dataframe tbody tr th {\n",
       "        vertical-align: top;\n",
       "    }\n",
       "\n",
       "    .dataframe thead th {\n",
       "        text-align: right;\n",
       "    }\n",
       "</style>\n",
       "<table border=\"1\" class=\"dataframe\">\n",
       "  <thead>\n",
       "    <tr style=\"text-align: right;\">\n",
       "      <th></th>\n",
       "      <th>Name</th>\n",
       "      <th>Sex</th>\n",
       "    </tr>\n",
       "  </thead>\n",
       "  <tbody>\n",
       "    <tr>\n",
       "      <td>0</td>\n",
       "      <td>Sol</td>\n",
       "      <td>M</td>\n",
       "    </tr>\n",
       "    <tr>\n",
       "      <td>1</td>\n",
       "      <td>Nhan</td>\n",
       "      <td>M</td>\n",
       "    </tr>\n",
       "    <tr>\n",
       "      <td>2</td>\n",
       "      <td>Jacqui</td>\n",
       "      <td>F</td>\n",
       "    </tr>\n",
       "    <tr>\n",
       "      <td>3</td>\n",
       "      <td>Wynne</td>\n",
       "      <td>F</td>\n",
       "    </tr>\n",
       "    <tr>\n",
       "      <td>4</td>\n",
       "      <td>Cory</td>\n",
       "      <td>M</td>\n",
       "    </tr>\n",
       "  </tbody>\n",
       "</table>\n",
       "</div>"
      ],
      "text/plain": [
       "     Name Sex\n",
       "0     Sol   M\n",
       "1    Nhan   M\n",
       "2  Jacqui   F\n",
       "3   Wynne   F\n",
       "4    Cory   M"
      ]
     },
     "execution_count": 42,
     "metadata": {},
     "output_type": "execute_result"
    }
   ],
   "source": [
    "test_set = test_set[['Name','Sex']]\n",
    "test_set = test_set.reset_index(drop=True)\n",
    "print(test_set.shape)\n",
    "test_set.head()"
   ]
  },
  {
   "cell_type": "code",
   "execution_count": 43,
   "metadata": {},
   "outputs": [
    {
     "name": "stdout",
     "output_type": "stream",
     "text": [
      "(391410, 3)\n"
     ]
    },
    {
     "data": {
      "text/html": [
       "<div>\n",
       "<style scoped>\n",
       "    .dataframe tbody tr th:only-of-type {\n",
       "        vertical-align: middle;\n",
       "    }\n",
       "\n",
       "    .dataframe tbody tr th {\n",
       "        vertical-align: top;\n",
       "    }\n",
       "\n",
       "    .dataframe thead th {\n",
       "        text-align: right;\n",
       "    }\n",
       "</style>\n",
       "<table border=\"1\" class=\"dataframe\">\n",
       "  <thead>\n",
       "    <tr style=\"text-align: right;\">\n",
       "      <th></th>\n",
       "      <th>Name</th>\n",
       "      <th>Sex</th>\n",
       "      <th>Predicted Gender</th>\n",
       "    </tr>\n",
       "  </thead>\n",
       "  <tbody>\n",
       "    <tr>\n",
       "      <td>0</td>\n",
       "      <td>Sol</td>\n",
       "      <td>M</td>\n",
       "      <td>M</td>\n",
       "    </tr>\n",
       "    <tr>\n",
       "      <td>1</td>\n",
       "      <td>Nhan</td>\n",
       "      <td>M</td>\n",
       "      <td>M</td>\n",
       "    </tr>\n",
       "    <tr>\n",
       "      <td>2</td>\n",
       "      <td>Jacqui</td>\n",
       "      <td>F</td>\n",
       "      <td>F</td>\n",
       "    </tr>\n",
       "    <tr>\n",
       "      <td>3</td>\n",
       "      <td>Wynne</td>\n",
       "      <td>F</td>\n",
       "      <td>F</td>\n",
       "    </tr>\n",
       "    <tr>\n",
       "      <td>4</td>\n",
       "      <td>Cory</td>\n",
       "      <td>M</td>\n",
       "      <td>M</td>\n",
       "    </tr>\n",
       "  </tbody>\n",
       "</table>\n",
       "</div>"
      ],
      "text/plain": [
       "     Name Sex Predicted Gender\n",
       "0     Sol   M                M\n",
       "1    Nhan   M                M\n",
       "2  Jacqui   F                F\n",
       "3   Wynne   F                F\n",
       "4    Cory   M                M"
      ]
     },
     "execution_count": 43,
     "metadata": {},
     "output_type": "execute_result"
    }
   ],
   "source": [
    "test_set = test_set.merge(train_male_female_count[['Name','Predicted Gender']], on='Name', how='left')\n",
    "test_set = test_set[['Name','Sex','Predicted Gender']]\n",
    "print(test_set.shape)\n",
    "test_set.head()"
   ]
  },
  {
   "cell_type": "code",
   "execution_count": 44,
   "metadata": {},
   "outputs": [
    {
     "name": "stdout",
     "output_type": "stream",
     "text": [
      "(43863, 3)\n"
     ]
    },
    {
     "data": {
      "text/html": [
       "<div>\n",
       "<style scoped>\n",
       "    .dataframe tbody tr th:only-of-type {\n",
       "        vertical-align: middle;\n",
       "    }\n",
       "\n",
       "    .dataframe tbody tr th {\n",
       "        vertical-align: top;\n",
       "    }\n",
       "\n",
       "    .dataframe thead th {\n",
       "        text-align: right;\n",
       "    }\n",
       "</style>\n",
       "<table border=\"1\" class=\"dataframe\">\n",
       "  <thead>\n",
       "    <tr style=\"text-align: right;\">\n",
       "      <th></th>\n",
       "      <th>Name</th>\n",
       "      <th>Sex</th>\n",
       "      <th>Predicted Gender</th>\n",
       "    </tr>\n",
       "  </thead>\n",
       "  <tbody>\n",
       "    <tr>\n",
       "      <td>50</td>\n",
       "      <td>Kellie</td>\n",
       "      <td>M</td>\n",
       "      <td>F</td>\n",
       "    </tr>\n",
       "    <tr>\n",
       "      <td>51</td>\n",
       "      <td>Elon</td>\n",
       "      <td>F</td>\n",
       "      <td>M</td>\n",
       "    </tr>\n",
       "    <tr>\n",
       "      <td>61</td>\n",
       "      <td>Knightly</td>\n",
       "      <td>F</td>\n",
       "      <td>M</td>\n",
       "    </tr>\n",
       "    <tr>\n",
       "      <td>62</td>\n",
       "      <td>Mischa</td>\n",
       "      <td>M</td>\n",
       "      <td>F</td>\n",
       "    </tr>\n",
       "    <tr>\n",
       "      <td>68</td>\n",
       "      <td>Norris</td>\n",
       "      <td>F</td>\n",
       "      <td>M</td>\n",
       "    </tr>\n",
       "  </tbody>\n",
       "</table>\n",
       "</div>"
      ],
      "text/plain": [
       "        Name Sex Predicted Gender\n",
       "50    Kellie   M                F\n",
       "51      Elon   F                M\n",
       "61  Knightly   F                M\n",
       "62    Mischa   M                F\n",
       "68    Norris   F                M"
      ]
     },
     "execution_count": 44,
     "metadata": {},
     "output_type": "execute_result"
    }
   ],
   "source": [
    "predicted_difference = test_set.loc[test_set['Sex'] != test_set['Predicted Gender']]\n",
    "print(predicted_difference.shape)\n",
    "predicted_difference.head()"
   ]
  },
  {
   "cell_type": "code",
   "execution_count": 45,
   "metadata": {
    "scrolled": false
   },
   "outputs": [
    {
     "name": "stdout",
     "output_type": "stream",
     "text": [
      "(347547, 3)\n"
     ]
    },
    {
     "data": {
      "text/plain": [
       "(347547, 3)"
      ]
     },
     "execution_count": 45,
     "metadata": {},
     "output_type": "execute_result"
    }
   ],
   "source": [
    "predicted_correct = test_set.loc[test_set['Sex'] == test_set['Predicted Gender']]\n",
    "print(predicted_correct.shape)\n",
    "predicted_correct.shape\n",
    "# predicted_correct.head()"
   ]
  },
  {
   "cell_type": "code",
   "execution_count": 46,
   "metadata": {},
   "outputs": [
    {
     "data": {
      "text/plain": [
       "347547"
      ]
     },
     "execution_count": 46,
     "metadata": {},
     "output_type": "execute_result"
    }
   ],
   "source": [
    "len(predicted_correct.index)"
   ]
  },
  {
   "cell_type": "markdown",
   "metadata": {},
   "source": [
    "## Metrics\n",
    "Checking the accuracy score of Model on Test Data"
   ]
  },
  {
   "cell_type": "code",
   "execution_count": 47,
   "metadata": {},
   "outputs": [
    {
     "name": "stdout",
     "output_type": "stream",
     "text": [
      "Accuracy Score : \n",
      "0.8879359239671956\n"
     ]
    }
   ],
   "source": [
    "Accuracy_Score = len(predicted_correct.index)/(len(predicted_correct.index)+ len(predicted_difference.index))\n",
    "print('Accuracy Score : ')\n",
    "print(Accuracy_Score)"
   ]
  },
  {
   "cell_type": "code",
   "execution_count": 48,
   "metadata": {},
   "outputs": [
    {
     "name": "stdout",
     "output_type": "stream",
     "text": [
      "(139123, 3)\n",
      "139123\n",
      "(208424, 3)\n",
      "208424\n",
      "(19076, 3)\n",
      "19076\n",
      "(19626, 3)\n",
      "19626\n",
      "Recall Score : \n",
      "0.8763708747771639\n"
     ]
    }
   ],
   "source": [
    "true_positive = test_set.loc[(test_set['Sex'] == \"M\") & (test_set['Predicted Gender']==\"M\")]\n",
    "print(true_positive.shape)\n",
    "TP = len(true_positive.index)\n",
    "print(TP)\n",
    "true_negative = test_set.loc[(test_set['Sex'] == \"F\") & (test_set['Predicted Gender']==\"F\")] \n",
    "print(true_negative.shape)\n",
    "TN = len(true_negative.index)\n",
    "print(TN)\n",
    "false_positive = test_set.loc[(test_set['Sex'] == \"M\") & (test_set['Predicted Gender']==\"F\")] \n",
    "print(false_positive.shape)\n",
    "FP = len(false_positive.index)\n",
    "print(FP)\n",
    "false_negative = test_set.loc[(test_set['Sex'] == \"F\") & (test_set['Predicted Gender']==\"M\")] \n",
    "print(false_negative.shape)\n",
    "FN = len(false_negative.index)\n",
    "print(FN)\n",
    "print(\"Recall Score : \" )\n",
    "Recall = TP/(TP+FN)\n",
    "print(Recall)"
   ]
  },
  {
   "cell_type": "code",
   "execution_count": 49,
   "metadata": {},
   "outputs": [
    {
     "name": "stdout",
     "output_type": "stream",
     "text": [
      "Precision Score : \n",
      "0.8794176954342315\n"
     ]
    }
   ],
   "source": [
    "Precision = TP/(TP+FP)\n",
    "print(\"Precision Score : \" )\n",
    "print(Precision)"
   ]
  },
  {
   "cell_type": "code",
   "execution_count": 50,
   "metadata": {},
   "outputs": [
    {
     "name": "stdout",
     "output_type": "stream",
     "text": [
      "Miscellaneous classification Score : \n",
      "0.1001996121672807\n"
     ]
    }
   ],
   "source": [
    "missc_classification_rate = (FP+FN)/(FP+FN+TP+TN)\n",
    "print(\"Miscellaneous classification Score : \" )\n",
    "print(missc_classification_rate)"
   ]
  },
  {
   "cell_type": "code",
   "execution_count": 51,
   "metadata": {},
   "outputs": [
    {
     "name": "stdout",
     "output_type": "stream",
     "text": [
      "F1 Score : \n",
      "0.8778916415311029\n"
     ]
    }
   ],
   "source": [
    "f1_Score = 2*Precision*Recall/(Precision+Recall)\n",
    "print(\"F1 Score : \" )\n",
    "print(f1_Score)"
   ]
  },
  {
   "cell_type": "markdown",
   "metadata": {},
   "source": [
    "How to measure good and How good is this model on test set?(The Below Numbers change on each run based on test and train split)\n",
    "\n",
    "We measure the model based on below metrics:\n",
    "\n",
    "Accuracy is proportion of total no. of predictions that were correct, this simple model predicts gender of a name based on most number of time it was given to a gender from 1880 to 2018 .\n",
    "\n",
    "Accuracy Score for this model = 0.8879359239671956\n",
    "\n",
    "\n",
    "Recall is proportion of actual positive cases that were correctly classified.\n",
    "\n",
    "Recall Score for this model : 0.8763708747771639\n",
    "\n",
    "Precision is proportion of total positive cases that were correct\n",
    "\n",
    "Precision Score for this model : 0.8794176954342315\n",
    "\n",
    "F1-score tells how precise our classifier is as well as how robust the model is.\n",
    "\n",
    "F1 Score for this model : 0.8778916415311029\n"
   ]
  },
  {
   "cell_type": "markdown",
   "metadata": {},
   "source": [
    "## Question 3\n",
    "\n",
    "For the second model create a decision tree using the training data. How good is the model\n",
    "on the test set?"
   ]
  },
  {
   "cell_type": "code",
   "execution_count": 52,
   "metadata": {},
   "outputs": [
    {
     "data": {
      "text/html": [
       "<div>\n",
       "<style scoped>\n",
       "    .dataframe tbody tr th:only-of-type {\n",
       "        vertical-align: middle;\n",
       "    }\n",
       "\n",
       "    .dataframe tbody tr th {\n",
       "        vertical-align: top;\n",
       "    }\n",
       "\n",
       "    .dataframe thead th {\n",
       "        text-align: right;\n",
       "    }\n",
       "</style>\n",
       "<table border=\"1\" class=\"dataframe\">\n",
       "  <thead>\n",
       "    <tr style=\"text-align: right;\">\n",
       "      <th></th>\n",
       "      <th>Name</th>\n",
       "      <th>Sex</th>\n",
       "      <th>Count</th>\n",
       "      <th>Year</th>\n",
       "    </tr>\n",
       "  </thead>\n",
       "  <tbody>\n",
       "    <tr>\n",
       "      <td>0</td>\n",
       "      <td>61717</td>\n",
       "      <td>0</td>\n",
       "      <td>7065</td>\n",
       "      <td>1880</td>\n",
       "    </tr>\n",
       "    <tr>\n",
       "      <td>1341</td>\n",
       "      <td>92800</td>\n",
       "      <td>1</td>\n",
       "      <td>19</td>\n",
       "      <td>1880</td>\n",
       "    </tr>\n",
       "    <tr>\n",
       "      <td>1340</td>\n",
       "      <td>84611</td>\n",
       "      <td>1</td>\n",
       "      <td>19</td>\n",
       "      <td>1880</td>\n",
       "    </tr>\n",
       "    <tr>\n",
       "      <td>1339</td>\n",
       "      <td>73758</td>\n",
       "      <td>1</td>\n",
       "      <td>19</td>\n",
       "      <td>1880</td>\n",
       "    </tr>\n",
       "    <tr>\n",
       "      <td>1338</td>\n",
       "      <td>57713</td>\n",
       "      <td>1</td>\n",
       "      <td>19</td>\n",
       "      <td>1880</td>\n",
       "    </tr>\n",
       "  </tbody>\n",
       "</table>\n",
       "</div>"
      ],
      "text/plain": [
       "       Name  Sex Count  Year\n",
       "0     61717    0  7065  1880\n",
       "1341  92800    1    19  1880\n",
       "1340  84611    1    19  1880\n",
       "1339  73758    1    19  1880\n",
       "1338  57713    1    19  1880"
      ]
     },
     "execution_count": 52,
     "metadata": {},
     "output_type": "execute_result"
    }
   ],
   "source": [
    "label_encoder = LabelEncoder()\n",
    "decision_tree_df = names_df.copy()\n",
    "decision_tree_df[\"Name\"] = label_encoder.fit_transform(decision_tree_df[\"Name\"].astype('str'))\n",
    "decision_tree_df[\"Sex\"] = label_encoder.fit_transform(decision_tree_df[\"Sex\"].astype('str'))\n",
    "decision_tree_df.head()"
   ]
  },
  {
   "cell_type": "code",
   "execution_count": 53,
   "metadata": {},
   "outputs": [],
   "source": [
    "train_set_2, test_set_2 = train_test_split(decision_tree_df,test_size=0.2)\n",
    "train_x = train_set_2[[\"Name\",\"Count\",\"Year\"]]\n",
    "test_x = test_set_2[[\"Name\",\"Count\",\"Year\"]]\n",
    "train_y = train_set_2[[\"Sex\"]]\n",
    "test_y = test_set_2[[\"Sex\"]]"
   ]
  },
  {
   "cell_type": "code",
   "execution_count": 54,
   "metadata": {},
   "outputs": [],
   "source": [
    "decision_tree_clf = DecisionTreeClassifier(random_state=0)\n",
    "decision_tree_clf = decision_tree_clf.fit(train_x, train_y)"
   ]
  },
  {
   "cell_type": "code",
   "execution_count": 55,
   "metadata": {},
   "outputs": [],
   "source": [
    "prediction = decision_tree_clf.predict(test_x)"
   ]
  },
  {
   "cell_type": "code",
   "execution_count": 56,
   "metadata": {},
   "outputs": [
    {
     "name": "stdout",
     "output_type": "stream",
     "text": [
      "              precision    recall  f1-score   support\n",
      "\n",
      "           0       0.95      0.95      0.95    231732\n",
      "           1       0.92      0.93      0.93    159678\n",
      "\n",
      "    accuracy                           0.94    391410\n",
      "   macro avg       0.94      0.94      0.94    391410\n",
      "weighted avg       0.94      0.94      0.94    391410\n",
      "\n",
      "Accuracy score : \n",
      "0.9387981911550548\n",
      "Recall score : \n",
      "0.9252307769385889\n",
      "precision score : \n",
      "0.9247848267659854\n",
      "f1 score : \n",
      "0.9250077481036713\n"
     ]
    }
   ],
   "source": [
    "print(classification_report(test_y,prediction))\n",
    "print(\"Accuracy score : \")\n",
    "print(accuracy_score(test_y,prediction))\n",
    "recall = recall_score(test_y,prediction)\n",
    "print(\"Recall score : \")\n",
    "print(recall)\n",
    "precision = precision_score(test_y,prediction)\n",
    "print(\"precision score : \")\n",
    "print(precision)\n",
    "f1 = f1_score(test_y,prediction)\n",
    "print(\"f1 score : \")\n",
    "print(f1)"
   ]
  },
  {
   "cell_type": "markdown",
   "metadata": {},
   "source": [
    "How good is this model on test set?(Below numbers change on every run based on train and test data split)\n",
    "\n",
    "We measure the model based on below metrics:\n",
    "\n",
    "Accuracy is proportion of total no. of predictions that were correct, this simple model predicts gender of a name based on most decision tree algorith. \n",
    "\n",
    "Accuracy Score for this model = 0.9387981911550548\n",
    "\n",
    "Recall is proportion of actual positive cases that were correctly classified. \n",
    "\n",
    "Recall Score for this model : 0.9252307769385889\n",
    "\n",
    "Precision is proportion of total positive cases that were correct \n",
    "\n",
    "Precision Score for this model : 0.9247848267659854\n",
    "\n",
    "F1-score tells how precise our classifier is as well as how robust the model is.\n",
    "\n",
    "F1 Score for this model : 0.9250077481036713"
   ]
  },
  {
   "cell_type": "markdown",
   "metadata": {},
   "source": [
    "## Question 4\n",
    "How do the two models compare?\n",
    "\n",
    "The First model predicts the gender of the name based on fact how many times this name was given to male or female in the training set.\n",
    "\n",
    "This model fails when the name is not in the training set but is present in test set.\n",
    "Also for the first model I decided to default to feamle when the count given to male and feamle for a name is equal. since overall count of females in data set is more than males defaulting to female when count is equal gave a better accuracy then defaulting to male.\n",
    "\n",
    "The Second model takes year into account and classifies the gender based on Name and count given to that name in a particular year, so the second model creates a sequence of branching operations baes on Name, Count and Year.\n",
    "\n",
    "We can deduce that by taking year wise name and count decision tree model was more accurate(93.8%) than first model(88%) which only took into account number of times name was given to a male of female.\n",
    "\n",
    "The recall score of decision tree model is also more (92%) as compared to first model(87%) which shows decision tree model has ability to find more positive samples as compared to first model.\n",
    "The Recall score shows ability to fiad  all relevant instances of males and females in dataset \n",
    "\n",
    "The prcision score of seconds model (92%) is also higher than first model (87%)\n",
    "\n",
    "The seconds model also has better f1 score which is harmonic mean of Precision and Recall\n",
    "\n",
    "Based on all the available metrics we can say decision tree model is better at predicting gender of a name\n",
    "\n"
   ]
  },
  {
   "cell_type": "code",
   "execution_count": null,
   "metadata": {},
   "outputs": [],
   "source": []
  }
 ],
 "metadata": {
  "kernelspec": {
   "display_name": "Python 3",
   "language": "python",
   "name": "python3"
  },
  "language_info": {
   "codemirror_mode": {
    "name": "ipython",
    "version": 3
   },
   "file_extension": ".py",
   "mimetype": "text/x-python",
   "name": "python",
   "nbconvert_exporter": "python",
   "pygments_lexer": "ipython3",
   "version": "3.7.4"
  }
 },
 "nbformat": 4,
 "nbformat_minor": 2
}
